{
 "cells": [
  {
   "cell_type": "markdown",
   "metadata": {},
   "source": [
    "# Modeling\n",
    "I also want to guess the valoration of a movie from the rest of information."
   ]
  },
  {
   "cell_type": "code",
   "execution_count": 26,
   "metadata": {},
   "outputs": [],
   "source": [
    "import pandas as pd\n",
    "import numpy as np"
   ]
  },
  {
   "cell_type": "code",
   "execution_count": 27,
   "metadata": {},
   "outputs": [],
   "source": [
    "data = pd.read_csv('data\\imdb_processed.csv')"
   ]
  },
  {
   "cell_type": "markdown",
   "metadata": {},
   "source": [
    "### 1 - Selection\n",
    "Some of the columns are not needed for modelling, but I need them for visualization."
   ]
  },
  {
   "cell_type": "code",
   "execution_count": 28,
   "metadata": {},
   "outputs": [
    {
     "data": {
      "text/html": [
       "<div>\n",
       "<style scoped>\n",
       "    .dataframe tbody tr th:only-of-type {\n",
       "        vertical-align: middle;\n",
       "    }\n",
       "\n",
       "    .dataframe tbody tr th {\n",
       "        vertical-align: top;\n",
       "    }\n",
       "\n",
       "    .dataframe thead th {\n",
       "        text-align: right;\n",
       "    }\n",
       "</style>\n",
       "<table border=\"1\" class=\"dataframe\">\n",
       "  <thead>\n",
       "    <tr style=\"text-align: right;\">\n",
       "      <th></th>\n",
       "      <th>tconst</th>\n",
       "      <th>primaryTitle</th>\n",
       "      <th>startYear</th>\n",
       "    </tr>\n",
       "  </thead>\n",
       "  <tbody>\n",
       "    <tr>\n",
       "      <th>0</th>\n",
       "      <td>tt0023526</td>\n",
       "      <td>Stranger in Town</td>\n",
       "      <td>1932</td>\n",
       "    </tr>\n",
       "  </tbody>\n",
       "</table>\n",
       "</div>"
      ],
      "text/plain": [
       "      tconst      primaryTitle  startYear\n",
       "0  tt0023526  Stranger in Town       1932"
      ]
     },
     "execution_count": 28,
     "metadata": {},
     "output_type": "execute_result"
    }
   ],
   "source": [
    "non_model_info = data[['tconst', 'primaryTitle', 'startYear']]\n",
    "non_model_info.head(1)"
   ]
  },
  {
   "cell_type": "code",
   "execution_count": 29,
   "metadata": {},
   "outputs": [
    {
     "data": {
      "text/html": [
       "<div>\n",
       "<style scoped>\n",
       "    .dataframe tbody tr th:only-of-type {\n",
       "        vertical-align: middle;\n",
       "    }\n",
       "\n",
       "    .dataframe tbody tr th {\n",
       "        vertical-align: top;\n",
       "    }\n",
       "\n",
       "    .dataframe thead th {\n",
       "        text-align: right;\n",
       "    }\n",
       "</style>\n",
       "<table border=\"1\" class=\"dataframe\">\n",
       "  <thead>\n",
       "    <tr style=\"text-align: right;\">\n",
       "      <th></th>\n",
       "      <th>isAdult</th>\n",
       "      <th>runtimeMinutes</th>\n",
       "      <th>rating</th>\n",
       "      <th>genres</th>\n",
       "      <th>mpaa</th>\n",
       "      <th>description</th>\n",
       "      <th>votes</th>\n",
       "      <th>year_process</th>\n",
       "    </tr>\n",
       "  </thead>\n",
       "  <tbody>\n",
       "    <tr>\n",
       "      <th>0</th>\n",
       "      <td>0</td>\n",
       "      <td>65</td>\n",
       "      <td>6.1</td>\n",
       "      <td>['drama']</td>\n",
       "      <td>PG</td>\n",
       "      <td>[\"Ulysses Crickle owns a small town grocery st...</td>\n",
       "      <td>115.0</td>\n",
       "      <td>1932</td>\n",
       "    </tr>\n",
       "  </tbody>\n",
       "</table>\n",
       "</div>"
      ],
      "text/plain": [
       "   isAdult  runtimeMinutes  rating     genres mpaa  \\\n",
       "0        0              65     6.1  ['drama']   PG   \n",
       "\n",
       "                                         description  votes  year_process  \n",
       "0  [\"Ulysses Crickle owns a small town grocery st...  115.0          1932  "
      ]
     },
     "execution_count": 29,
     "metadata": {},
     "output_type": "execute_result"
    }
   ],
   "source": [
    "data = data.drop(['tconst', 'primaryTitle', 'startYear'], axis=1)\n",
    "data.head(1)"
   ]
  },
  {
   "cell_type": "markdown",
   "metadata": {},
   "source": [
    "I also want to keep the target separated:"
   ]
  },
  {
   "cell_type": "code",
   "execution_count": 30,
   "metadata": {},
   "outputs": [],
   "source": [
    "target = data['rating']\n",
    "data = data.drop('rating', axis=1)\n"
   ]
  },
  {
   "cell_type": "markdown",
   "metadata": {},
   "source": [
    "If I tokenize the ``genres`` column, I can use it for the models."
   ]
  },
  {
   "cell_type": "code",
   "execution_count": 31,
   "metadata": {},
   "outputs": [],
   "source": [
    "from nltk.tokenize import word_tokenize\n",
    "\n",
    "def tokenize(s):\n",
    "    \"\"\"\n",
    "    Tokenize a string.\n",
    "\n",
    "    Args:\n",
    "        s: String to be tokenized.\n",
    "\n",
    "    Returns:\n",
    "        A list of words as the result of tokenization.\n",
    "    \"\"\"\n",
    "    s = word_tokenize(s)\n",
    "\n",
    "    return s"
   ]
  },
  {
   "cell_type": "code",
   "execution_count": 32,
   "metadata": {},
   "outputs": [],
   "source": [
    "# data['genres_token'] = data.genres.apply(word_tokenize)"
   ]
  },
  {
   "cell_type": "code",
   "execution_count": 33,
   "metadata": {},
   "outputs": [],
   "source": [
    "# token_list = data['genres_token'].tolist()"
   ]
  },
  {
   "cell_type": "code",
   "execution_count": 34,
   "metadata": {},
   "outputs": [],
   "source": [
    "import re"
   ]
  },
  {
   "cell_type": "code",
   "execution_count": 35,
   "metadata": {},
   "outputs": [],
   "source": [
    "# word_list = []\n",
    "# regx  = '''[\\[\\]\\\"\\']'''\n",
    "\n",
    "\n",
    "# for token in token_list:\n",
    "#     # word_list = word_list + list(token_list[i])\n",
    "#     token = re.sub(regx,'',token)\n",
    "#     list = token.split(',')\n",
    "#     word_list = word_list + list"
   ]
  },
  {
   "cell_type": "code",
   "execution_count": 36,
   "metadata": {},
   "outputs": [],
   "source": [
    "from nltk.probability import FreqDist\n",
    "\n",
    "\n",
    "def frequency(column, amount = 100):\n",
    "    '''\n",
    "    Args:\n",
    "        column: Pandas series of tokenized lists (in the form of a df column)\n",
    "        amount: the amount of mos common words we want\n",
    "\n",
    "    Returns:\n",
    "        A list of tuples of size equals to the amount with the word, and the number of times it appears in the bag of words\n",
    "    '''\n",
    "\n",
    "\n",
    "    token_list = column.tolist()\n",
    "\n",
    "    word_list = []\n",
    "    regx  = '''[\\[\\]\\\"\\']''' # I need to clean the lists\n",
    "\n",
    "    for token in token_list:\n",
    "        token = re.sub(regx,'',token)\n",
    "        list = token.split(',')\n",
    "        word_list = word_list + list\n",
    "\n",
    "    fd = FreqDist(word_list)\n",
    "    most_common = fd.most_common(amount)\n",
    "    return most_common, word_list"
   ]
  },
  {
   "cell_type": "code",
   "execution_count": null,
   "metadata": {},
   "outputs": [],
   "source": []
  },
  {
   "cell_type": "code",
   "execution_count": 37,
   "metadata": {},
   "outputs": [],
   "source": [
    "def find_features(row):\n",
    "    words = row['text_processed']\n",
    "    features = {}\n",
    "    for w in word_list:\n",
    "        features[w] = (w in words)\n",
    "\n",
    "        \n",
    "\n",
    "    return (features, row['target'])"
   ]
  },
  {
   "cell_type": "code",
   "execution_count": 38,
   "metadata": {},
   "outputs": [
    {
     "data": {
      "text/html": [
       "<div>\n",
       "<style scoped>\n",
       "    .dataframe tbody tr th:only-of-type {\n",
       "        vertical-align: middle;\n",
       "    }\n",
       "\n",
       "    .dataframe tbody tr th {\n",
       "        vertical-align: top;\n",
       "    }\n",
       "\n",
       "    .dataframe thead th {\n",
       "        text-align: right;\n",
       "    }\n",
       "</style>\n",
       "<table border=\"1\" class=\"dataframe\">\n",
       "  <thead>\n",
       "    <tr style=\"text-align: right;\">\n",
       "      <th></th>\n",
       "      <th>isAdult</th>\n",
       "      <th>runtimeMinutes</th>\n",
       "      <th>genres</th>\n",
       "      <th>mpaa</th>\n",
       "      <th>description</th>\n",
       "      <th>votes</th>\n",
       "      <th>year_process</th>\n",
       "    </tr>\n",
       "  </thead>\n",
       "  <tbody>\n",
       "    <tr>\n",
       "      <th>0</th>\n",
       "      <td>0</td>\n",
       "      <td>65</td>\n",
       "      <td>['drama']</td>\n",
       "      <td>PG</td>\n",
       "      <td>[\"Ulysses Crickle owns a small town grocery st...</td>\n",
       "      <td>115.0</td>\n",
       "      <td>1932</td>\n",
       "    </tr>\n",
       "    <tr>\n",
       "      <th>1</th>\n",
       "      <td>0</td>\n",
       "      <td>76</td>\n",
       "      <td>['comedy', 'drama']</td>\n",
       "      <td>Not Rated</td>\n",
       "      <td>['_Strangers in Love_ (qv) is a 1932 American ...</td>\n",
       "      <td>144.0</td>\n",
       "      <td>1932</td>\n",
       "    </tr>\n",
       "    <tr>\n",
       "      <th>2</th>\n",
       "      <td>0</td>\n",
       "      <td>70</td>\n",
       "      <td>['comedy', 'mystery']</td>\n",
       "      <td>Approved</td>\n",
       "      <td>['Bodies start mysteriously disappearing from ...</td>\n",
       "      <td>218.0</td>\n",
       "      <td>1932</td>\n",
       "    </tr>\n",
       "    <tr>\n",
       "      <th>3</th>\n",
       "      <td>0</td>\n",
       "      <td>59</td>\n",
       "      <td>['drama', 'romance']</td>\n",
       "      <td>Approved</td>\n",
       "      <td>[\"A married architect, stuck in a loveless mar...</td>\n",
       "      <td>356.0</td>\n",
       "      <td>1932</td>\n",
       "    </tr>\n",
       "    <tr>\n",
       "      <th>4</th>\n",
       "      <td>0</td>\n",
       "      <td>99</td>\n",
       "      <td>['comedy']</td>\n",
       "      <td>Not Rated</td>\n",
       "      <td>['Whoever of a group of eager bicycle racers f...</td>\n",
       "      <td>14.0</td>\n",
       "      <td>1932</td>\n",
       "    </tr>\n",
       "  </tbody>\n",
       "</table>\n",
       "</div>"
      ],
      "text/plain": [
       "   isAdult  runtimeMinutes                 genres       mpaa  \\\n",
       "0        0              65              ['drama']         PG   \n",
       "1        0              76    ['comedy', 'drama']  Not Rated   \n",
       "2        0              70  ['comedy', 'mystery']   Approved   \n",
       "3        0              59   ['drama', 'romance']   Approved   \n",
       "4        0              99             ['comedy']  Not Rated   \n",
       "\n",
       "                                         description  votes  year_process  \n",
       "0  [\"Ulysses Crickle owns a small town grocery st...  115.0          1932  \n",
       "1  ['_Strangers in Love_ (qv) is a 1932 American ...  144.0          1932  \n",
       "2  ['Bodies start mysteriously disappearing from ...  218.0          1932  \n",
       "3  [\"A married architect, stuck in a loveless mar...  356.0          1932  \n",
       "4  ['Whoever of a group of eager bicycle racers f...   14.0          1932  "
      ]
     },
     "execution_count": 38,
     "metadata": {},
     "output_type": "execute_result"
    }
   ],
   "source": [
    "data.head()"
   ]
  },
  {
   "cell_type": "markdown",
   "metadata": {},
   "source": [
    "### 2 - Train/Test split"
   ]
  },
  {
   "cell_type": "code",
   "execution_count": 39,
   "metadata": {},
   "outputs": [],
   "source": [
    "from sklearn.model_selection import train_test_split"
   ]
  },
  {
   "cell_type": "code",
   "execution_count": 40,
   "metadata": {},
   "outputs": [],
   "source": [
    "X_train, X_test, y_train, y_test = train_test_split(data, target, test_size=0.2, random_state=42)"
   ]
  },
  {
   "cell_type": "markdown",
   "metadata": {},
   "source": [
    "In order to improve accuracy in the models, I want to normalize the numerical data, and encode the categorical data.\n",
    "Also, I have two columns that I want to treat differently."
   ]
  },
  {
   "cell_type": "code",
   "execution_count": 41,
   "metadata": {},
   "outputs": [],
   "source": [
    "# numerical = data.select_dtypes(np.number)\n",
    "# text = data[['genres', 'description']]\n",
    "# categorical = data['mpaa']\n",
    "\n",
    "X_train_numerical = X_train.select_dtypes(np.number)\n",
    "X_train_categorical = pd.DataFrame()\n",
    "X_train_categorical['mpaa'] = X_train['mpaa'].copy()\n",
    "\n",
    "X_test_numerical = X_test.select_dtypes(np.number)\n",
    "X_test_categorical = pd.DataFrame()\n",
    "X_test_categorical['mpaa'] = X_test['mpaa'].copy()"
   ]
  },
  {
   "cell_type": "markdown",
   "metadata": {},
   "source": [
    "### 3 - Numerical Scaling\n",
    "The numerical data has very different ranges, so I will scale them."
   ]
  },
  {
   "cell_type": "code",
   "execution_count": 42,
   "metadata": {},
   "outputs": [],
   "source": [
    "from sklearn.preprocessing import MinMaxScaler"
   ]
  },
  {
   "cell_type": "code",
   "execution_count": 43,
   "metadata": {},
   "outputs": [],
   "source": [
    "transformer = MinMaxScaler().fit(X_train_numerical)\n",
    "X_train_num_tran = transformer.transform(X_train_numerical)\n",
    "\n",
    "X_train_num_tran = pd.DataFrame(X_train_num_tran, columns=X_train_numerical.columns)\n",
    "# X_train_num_tran.shape\n",
    "\n",
    "X_test_num_tran = transformer.transform(X_test_numerical)\n",
    "\n",
    "X_test_num_tran = pd.DataFrame(X_test_num_tran, columns=X_test_numerical.columns)\n"
   ]
  },
  {
   "cell_type": "markdown",
   "metadata": {},
   "source": [
    "### 4 - Categorical Encoding\n",
    "I need to transform the categories of the age ratings in the ``mpaa`` column to be numbers"
   ]
  },
  {
   "cell_type": "code",
   "execution_count": 44,
   "metadata": {},
   "outputs": [
    {
     "data": {
      "text/plain": [
       "Not Rated    4919\n",
       "Approved     1932\n",
       "R             393\n",
       "PG            321\n",
       "G             134\n",
       "PG-13         134\n",
       "NC-17         125\n",
       "Name: mpaa, dtype: int64"
      ]
     },
     "execution_count": 44,
     "metadata": {},
     "output_type": "execute_result"
    }
   ],
   "source": [
    "X_test['mpaa'].value_counts()"
   ]
  },
  {
   "cell_type": "code",
   "execution_count": 45,
   "metadata": {},
   "outputs": [],
   "source": [
    "dict = {'Not Rated': 0, 'Approved': 1, 'G': 2, 'PG': 3, 'PG-13': 4, 'R': 5, 'NC-17': 6}\n",
    "\n",
    "X_train_cat_label = X_train_categorical.replace({\"mpaa\": dict}).reset_index(drop=True)\n",
    "\n",
    "X_test_cat_label = X_test_categorical.replace({\"mpaa\": dict}).reset_index(drop=True)"
   ]
  },
  {
   "cell_type": "markdown",
   "metadata": {},
   "source": [
    "### 5 - Putting everything back together"
   ]
  },
  {
   "cell_type": "code",
   "execution_count": 46,
   "metadata": {},
   "outputs": [],
   "source": [
    "X_train_tran = pd.concat([X_train_num_tran, X_train_cat_label], axis=1)\n",
    "# X_train_tran"
   ]
  },
  {
   "cell_type": "code",
   "execution_count": 47,
   "metadata": {},
   "outputs": [],
   "source": [
    "X_test_tran = pd.concat([X_test_num_tran, X_test_cat_label], axis=1)\n",
    "# X_test_tran"
   ]
  },
  {
   "cell_type": "markdown",
   "metadata": {},
   "source": [
    "### 6 - Check correlations"
   ]
  },
  {
   "cell_type": "code",
   "execution_count": 48,
   "metadata": {},
   "outputs": [],
   "source": [
    "import seaborn as sns"
   ]
  },
  {
   "cell_type": "code",
   "execution_count": 50,
   "metadata": {},
   "outputs": [],
   "source": [
    "corr = X_train_tran.corr()"
   ]
  },
  {
   "cell_type": "code",
   "execution_count": 51,
   "metadata": {},
   "outputs": [
    {
     "data": {
      "text/plain": [
       "<AxesSubplot:>"
      ]
     },
     "execution_count": 51,
     "metadata": {},
     "output_type": "execute_result"
    },
    {
     "data": {
      "image/png": "[encoded data removed]",
      "text/plain": [
       "<Figure size 432x288 with 2 Axes>"
      ]
     },
     "metadata": {
      "needs_background": "light"
     },
     "output_type": "display_data"
    }
   ],
   "source": [
    "sns.heatmap(corr)"
   ]
  },
  {
   "cell_type": "markdown",
   "metadata": {},
   "source": [
    "There are no correlations, but that might indicate that "
   ]
  },
  {
   "cell_type": "markdown",
   "metadata": {},
   "source": [
    "### 7 - Models"
   ]
  },
  {
   "cell_type": "code",
   "execution_count": 57,
   "metadata": {},
   "outputs": [],
   "source": [
    "from sklearn import linear_model\n",
    "from sklearn.metrics import r2_score, mean_squared_error, mean_absolute_error\n",
    "import math"
   ]
  },
  {
   "cell_type": "code",
   "execution_count": 59,
   "metadata": {},
   "outputs": [
    {
     "data": {
      "text/plain": [
       "LinearRegression()"
      ]
     },
     "execution_count": 59,
     "metadata": {},
     "output_type": "execute_result"
    }
   ],
   "source": [
    "lm = linear_model.LinearRegression()\n",
    "lm.fit(X_train_tran,y_train)"
   ]
  },
  {
   "cell_type": "code",
   "execution_count": 60,
   "metadata": {},
   "outputs": [],
   "source": [
    "def metrics(X, y):\n",
    "    #Finds and prints the metrics of the algorithm\n",
    "    predictions = lm.predict(X)\n",
    "    r2 = r2_score(y, predictions)\n",
    "    print('R2:', r2)\n",
    "    mse = np.sqrt(mean_squared_error(y,predictions))\n",
    "    print('MSE:', mse)\n",
    "    rmse = math.sqrt(mse)\n",
    "    print('RMSE:', rmse)\n",
    "    mae = mean_absolute_error(y, predictions)\n",
    "    print('MAE:', mae)"
   ]
  },
  {
   "cell_type": "code",
   "execution_count": 62,
   "metadata": {},
   "outputs": [
    {
     "name": "stdout",
     "output_type": "stream",
     "text": [
      "R2: 0.04580805814119282\n",
      "MSE: 1.083247390233663\n",
      "RMSE: 1.0407917131845656\n",
      "MAE: 0.823900065134208\n"
     ]
    }
   ],
   "source": [
    "metrics(X_test_tran,y_test)"
   ]
  },
  {
   "cell_type": "markdown",
   "metadata": {},
   "source": [
    "This is a pretty bad R2 score...\n",
    "That would make some sense, as the reception of the movie does not depend at all on the metrics I had access to. That is why even high budget movies can flop easily."
   ]
  }
 ],
 "metadata": {
  "interpreter": {
   "hash": "5f23c331dcc0e959a18d97d72b32723b8e8fefc4a029dc171226f15b89161c30"
  },
  "kernelspec": {
   "display_name": "Python 3.9.7 ('base')",
   "language": "python",
   "name": "python3"
  },
  "language_info": {
   "codemirror_mode": {
    "name": "ipython",
    "version": 3
   },
   "file_extension": ".py",
   "mimetype": "text/x-python",
   "name": "python",
   "nbconvert_exporter": "python",
   "pygments_lexer": "ipython3",
   "version": "3.9.7"
  },
  "orig_nbformat": 4
 },
 "nbformat": 4,
 "nbformat_minor": 2
}
