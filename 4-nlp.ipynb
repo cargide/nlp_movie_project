{
 "cells": [
  {
   "cell_type": "markdown",
   "metadata": {},
   "source": [
    "# Natural Language Processing\n",
    "One of my objectives was to predict from the description how well the movie was going to be received.\n",
    "To do that I need to work with the ``description`` column as input, and change the ``rating`` column into a boolean one where True is over 5 of valoration."
   ]
  },
  {
   "cell_type": "code",
   "execution_count": 19,
   "metadata": {},
   "outputs": [],
   "source": [
    "import pandas as pd\n",
    "import numpy as np"
   ]
  },
  {
   "cell_type": "code",
   "execution_count": 20,
   "metadata": {},
   "outputs": [],
   "source": [
    "data = pd.read_csv('data\\imdb_processed.csv')"
   ]
  },
  {
   "cell_type": "code",
   "execution_count": 21,
   "metadata": {},
   "outputs": [],
   "source": [
    "sample = data.sample(100, random_state=42)"
   ]
  },
  {
   "cell_type": "markdown",
   "metadata": {},
   "source": [
    "## Target column"
   ]
  },
  {
   "cell_type": "code",
   "execution_count": 22,
   "metadata": {},
   "outputs": [],
   "source": [
    "def approved(rating):\n",
    "    if rating >= 5.0:\n",
    "        return True\n",
    "    else:\n",
    "        return False"
   ]
  },
  {
   "cell_type": "code",
   "execution_count": 23,
   "metadata": {},
   "outputs": [
    {
     "data": {
      "text/plain": [
       "True     34685\n",
       "False     5101\n",
       "Name: rating_bool, dtype: int64"
      ]
     },
     "execution_count": 23,
     "metadata": {},
     "output_type": "execute_result"
    }
   ],
   "source": [
    "data['rating_bool'] = data.rating.map(approved)\n",
    "data['rating_bool'].value_counts()"
   ]
  },
  {
   "cell_type": "markdown",
   "metadata": {},
   "source": [
    "The target is very unbalanced, and I also need to reduce the amount of rows in me dataset due to time constraints, so I will apply some downsampling."
   ]
  },
  {
   "cell_type": "code",
   "execution_count": 24,
   "metadata": {},
   "outputs": [],
   "source": [
    "from sklearn.utils import resample"
   ]
  },
  {
   "cell_type": "code",
   "execution_count": 25,
   "metadata": {},
   "outputs": [
    {
     "name": "stdout",
     "output_type": "stream",
     "text": [
      "(5101, 12)\n",
      "(34685, 12)\n"
     ]
    }
   ],
   "source": [
    "category_0 = data[data['rating_bool'] == False]\n",
    "print(category_0.shape)\n",
    "category_1 = data[data['rating_bool'] == True]\n",
    "print(category_1.shape)"
   ]
  },
  {
   "cell_type": "code",
   "execution_count": 26,
   "metadata": {},
   "outputs": [],
   "source": [
    "category_1_undersampled = resample(category_1, \n",
    "                                   replace=False, \n",
    "                                   n_samples = len(category_0))"
   ]
  },
  {
   "cell_type": "code",
   "execution_count": 27,
   "metadata": {},
   "outputs": [
    {
     "name": "stdout",
     "output_type": "stream",
     "text": [
      "(5101, 12)\n"
     ]
    }
   ],
   "source": [
    "print(category_1_undersampled.shape)"
   ]
  },
  {
   "cell_type": "code",
   "execution_count": 28,
   "metadata": {},
   "outputs": [],
   "source": [
    "data_downsampled = pd.concat([category_0, category_1_undersampled], axis=0)"
   ]
  },
  {
   "cell_type": "code",
   "execution_count": 29,
   "metadata": {},
   "outputs": [
    {
     "data": {
      "text/plain": [
       "(10202, 12)"
      ]
     },
     "execution_count": 29,
     "metadata": {},
     "output_type": "execute_result"
    }
   ],
   "source": [
    "data_downsampled.shape"
   ]
  },
  {
   "cell_type": "markdown",
   "metadata": {},
   "source": [
    "## Processing text"
   ]
  },
  {
   "cell_type": "code",
   "execution_count": 30,
   "metadata": {},
   "outputs": [],
   "source": [
    "# text = data[['genres', 'description']]\n",
    "descriptions = data_downsampled.description\n"
   ]
  },
  {
   "cell_type": "code",
   "execution_count": 31,
   "metadata": {},
   "outputs": [],
   "source": [
    "from nltk.tokenize import word_tokenize\n",
    "import nltk\n",
    "# nltk.download('punkt')\n",
    "\n",
    "from nltk.stem import PorterStemmer\n",
    "from nltk.stem import WordNetLemmatizer \n",
    "from nltk.corpus import wordnet\n",
    "\n",
    "from nltk.corpus import stopwords\n",
    "\n",
    "import re\n",
    "\n"
   ]
  },
  {
   "cell_type": "code",
   "execution_count": 32,
   "metadata": {},
   "outputs": [],
   "source": [
    "def clean_up(s):\n",
    "    \"\"\"\n",
    "    Cleans up numbers, URLs, and special characters from a string.\n",
    "\n",
    "    Args:\n",
    "        s: The string to be cleaned up.\n",
    "\n",
    "    Returns:\n",
    "        A string that has been cleaned up.\n",
    "    \"\"\"\n",
    "    reg_url = '(?:(?:https?|ftp):\\/\\/)?[\\w\\/\\-?=%.]+\\.[\\w\\/\\-&?=%.]+'\n",
    "    reg_sp  = '[^A-Za-z ]'\n",
    "\n",
    "    s = re.sub(reg_url,'',s) \n",
    "\n",
    "    s = re.sub(reg_sp,' ',s) \n",
    "\n",
    "    return s\n",
    "\n",
    "def tokenize(s):\n",
    "    \"\"\"\n",
    "    Tokenize a string.\n",
    "\n",
    "    Args:\n",
    "        s: String to be tokenized.\n",
    "\n",
    "    Returns:\n",
    "        A list of words as the result of tokenization.\n",
    "    \"\"\"\n",
    "    s = word_tokenize(s)\n",
    "\n",
    "    return s\n",
    "\n",
    "def stem_and_lemmatize(l):\n",
    "    \"\"\"\n",
    "    Perform stemming and lemmatization on a list of words.\n",
    "\n",
    "    Args:\n",
    "        l: A list of strings.\n",
    "\n",
    "    Returns:\n",
    "        A list of strings after being stemmed and lemmatized.\n",
    "    \"\"\"\n",
    "    ps = PorterStemmer() #I'm not convinced these go here\n",
    "    lemmatizer = WordNetLemmatizer() \n",
    "\n",
    "    list = [lemmatizer.lemmatize(ps.stem(word)) for word in l]\n",
    "\n",
    "    for word in l:\n",
    "        word = ps.stem(word)\n",
    "        word = lemmatizer.lemmatize(word)\n",
    "\n",
    "    return list\n",
    "\n",
    "def remove_stopwords(l):\n",
    "    \"\"\"\n",
    "    Remove English stopwords from a list of strings.\n",
    "\n",
    "    Args:\n",
    "        l: A list of strings.\n",
    "\n",
    "    Returns:\n",
    "        A list of strings after stop words are removed.\n",
    "    \"\"\"\n",
    "    clean_list = [word for word in l if not word in stopwords.words()]\n",
    "\n",
    "    return clean_list\n",
    "\n",
    "def full_process(s):\n",
    "    '''\n",
    "    Args:\n",
    "        s: the string to process\n",
    "\n",
    "    Returns:\n",
    "        The list of words after removing the stopwords\n",
    "    '''\n",
    "    s = clean_up(s)\n",
    "    l = tokenize(s)\n",
    "    l = stem_and_lemmatize(l)\n",
    "    clean_list = remove_stopwords(l)\n",
    "\n",
    "    return clean_list"
   ]
  },
  {
   "cell_type": "code",
   "execution_count": 33,
   "metadata": {},
   "outputs": [
    {
     "data": {
      "text/plain": [
       "5      [guest, hous, stockholm, group, music, student...\n",
       "9      [waitress, inga, pregnant, father, sailor, edv...\n",
       "10     [john, ulla, happili, marri, live, villa, frid...\n",
       "27     [tex, robbin, texa, ranger, pose, wolf, cassid...\n",
       "40     [sensat, court, poverti, row, entri, town, vam...\n",
       "47     [origin, titl, trail, killer, qv, misnom, wa, ...\n",
       "122    [lisa, young, woman, live, countrysid, go, sto...\n",
       "137    [gangster, get, boxer, throw, import, fight, f...\n",
       "146                  [g, unemploy, join, gang, smuggler]\n",
       "176    [timid, wynn, thrust, spotlight, hi, father, h...\n",
       "182    [canadian, mounti, assign, bring, hi, brother,...\n",
       "185    [kelli, daughter, fall, revenu, agent, hi, div...\n",
       "195    [tad, wallac, act, flop, broadway, join, troop...\n",
       "258    [pilot, hi, crash, land, island, run, psycho, ...\n",
       "269    [sham, ceremoni, hall, dimwit, fridolf, marri,...\n",
       "Name: tokens, dtype: object"
      ]
     },
     "execution_count": 33,
     "metadata": {},
     "output_type": "execute_result"
    }
   ],
   "source": [
    "data_downsampled['tokens'] = descriptions.apply(full_process) #full\n",
    "data_downsampled['tokens'][:15]"
   ]
  },
  {
   "cell_type": "code",
   "execution_count": 34,
   "metadata": {},
   "outputs": [
    {
     "data": {
      "text/html": [
       "<div>\n",
       "<style scoped>\n",
       "    .dataframe tbody tr th:only-of-type {\n",
       "        vertical-align: middle;\n",
       "    }\n",
       "\n",
       "    .dataframe tbody tr th {\n",
       "        vertical-align: top;\n",
       "    }\n",
       "\n",
       "    .dataframe thead th {\n",
       "        text-align: right;\n",
       "    }\n",
       "</style>\n",
       "<table border=\"1\" class=\"dataframe\">\n",
       "  <thead>\n",
       "    <tr style=\"text-align: right;\">\n",
       "      <th></th>\n",
       "      <th>tconst</th>\n",
       "      <th>primaryTitle</th>\n",
       "      <th>isAdult</th>\n",
       "      <th>startYear</th>\n",
       "      <th>runtimeMinutes</th>\n",
       "      <th>rating</th>\n",
       "      <th>genres</th>\n",
       "      <th>mpaa</th>\n",
       "      <th>description</th>\n",
       "      <th>votes</th>\n",
       "      <th>year_process</th>\n",
       "      <th>rating_bool</th>\n",
       "      <th>tokens</th>\n",
       "    </tr>\n",
       "  </thead>\n",
       "  <tbody>\n",
       "    <tr>\n",
       "      <th>5</th>\n",
       "      <td>tt0023534</td>\n",
       "      <td>En stulen vals</td>\n",
       "      <td>0</td>\n",
       "      <td>1932</td>\n",
       "      <td>83</td>\n",
       "      <td>3.9</td>\n",
       "      <td>['drama']</td>\n",
       "      <td>Not Rated</td>\n",
       "      <td>['A guest house in Stockholm. A group of music...</td>\n",
       "      <td>9.0</td>\n",
       "      <td>1932</td>\n",
       "      <td>False</td>\n",
       "      <td>[guest, hous, stockholm, group, music, student...</td>\n",
       "    </tr>\n",
       "    <tr>\n",
       "      <th>9</th>\n",
       "      <td>tt0023541</td>\n",
       "      <td>Svarta rosor</td>\n",
       "      <td>0</td>\n",
       "      <td>1932</td>\n",
       "      <td>86</td>\n",
       "      <td>4.8</td>\n",
       "      <td>['drama']</td>\n",
       "      <td>Not Rated</td>\n",
       "      <td>['The waitress Inga is pregnant and the father...</td>\n",
       "      <td>9.0</td>\n",
       "      <td>1932</td>\n",
       "      <td>False</td>\n",
       "      <td>[waitress, inga, pregnant, father, sailor, edv...</td>\n",
       "    </tr>\n",
       "    <tr>\n",
       "      <th>10</th>\n",
       "      <td>tt0023542</td>\n",
       "      <td>Svärmor kommer</td>\n",
       "      <td>0</td>\n",
       "      <td>1932</td>\n",
       "      <td>84</td>\n",
       "      <td>3.8</td>\n",
       "      <td>['comedy']</td>\n",
       "      <td>Not Rated</td>\n",
       "      <td>['John and Ulla are happily married and live i...</td>\n",
       "      <td>8.0</td>\n",
       "      <td>1932</td>\n",
       "      <td>False</td>\n",
       "      <td>[john, ulla, happili, marri, live, villa, frid...</td>\n",
       "    </tr>\n",
       "    <tr>\n",
       "      <th>27</th>\n",
       "      <td>tt0023570</td>\n",
       "      <td>The Texas Tornado</td>\n",
       "      <td>0</td>\n",
       "      <td>1932</td>\n",
       "      <td>53</td>\n",
       "      <td>4.7</td>\n",
       "      <td>['western']</td>\n",
       "      <td>Approved</td>\n",
       "      <td>['Tex Robbins, a Texas Ranger, posing as \"Wolf...</td>\n",
       "      <td>25.0</td>\n",
       "      <td>1932</td>\n",
       "      <td>False</td>\n",
       "      <td>[tex, robbin, texa, ranger, pose, wolf, cassid...</td>\n",
       "    </tr>\n",
       "    <tr>\n",
       "      <th>40</th>\n",
       "      <td>tt0023592</td>\n",
       "      <td>Thrill of Youth</td>\n",
       "      <td>0</td>\n",
       "      <td>1932</td>\n",
       "      <td>60</td>\n",
       "      <td>3.9</td>\n",
       "      <td>['drama']</td>\n",
       "      <td>Not Rated</td>\n",
       "      <td>['A sensation-courting poverty-row entry in wh...</td>\n",
       "      <td>24.0</td>\n",
       "      <td>1932</td>\n",
       "      <td>False</td>\n",
       "      <td>[sensat, court, poverti, row, entri, town, vam...</td>\n",
       "    </tr>\n",
       "    <tr>\n",
       "      <th>...</th>\n",
       "      <td>...</td>\n",
       "      <td>...</td>\n",
       "      <td>...</td>\n",
       "      <td>...</td>\n",
       "      <td>...</td>\n",
       "      <td>...</td>\n",
       "      <td>...</td>\n",
       "      <td>...</td>\n",
       "      <td>...</td>\n",
       "      <td>...</td>\n",
       "      <td>...</td>\n",
       "      <td>...</td>\n",
       "      <td>...</td>\n",
       "    </tr>\n",
       "    <tr>\n",
       "      <th>14646</th>\n",
       "      <td>tt0049476</td>\n",
       "      <td>Man in the Vault</td>\n",
       "      <td>0</td>\n",
       "      <td>1956</td>\n",
       "      <td>73</td>\n",
       "      <td>6.0</td>\n",
       "      <td>['crime', 'drama', 'film-noir']</td>\n",
       "      <td>Approved</td>\n",
       "      <td>['A locksmith gets caught up in a bank robbery...</td>\n",
       "      <td>417.0</td>\n",
       "      <td>1956</td>\n",
       "      <td>True</td>\n",
       "      <td>[locksmith, get, caught, bank, robberi, angel,...</td>\n",
       "    </tr>\n",
       "    <tr>\n",
       "      <th>28517</th>\n",
       "      <td>tt0796926</td>\n",
       "      <td>Cheese Head</td>\n",
       "      <td>0</td>\n",
       "      <td>2006</td>\n",
       "      <td>90</td>\n",
       "      <td>6.0</td>\n",
       "      <td>['comedy', 'drama']</td>\n",
       "      <td>Not Rated</td>\n",
       "      <td>['Year 1993. Ariel and his family spend their ...</td>\n",
       "      <td>502.0</td>\n",
       "      <td>2006</td>\n",
       "      <td>True</td>\n",
       "      <td>[year, ariel, hi, famili, spend, summer, idyl,...</td>\n",
       "    </tr>\n",
       "    <tr>\n",
       "      <th>14956</th>\n",
       "      <td>tt0049970</td>\n",
       "      <td>Yaqui Drums</td>\n",
       "      <td>0</td>\n",
       "      <td>1956</td>\n",
       "      <td>71</td>\n",
       "      <td>5.9</td>\n",
       "      <td>['western']</td>\n",
       "      <td>Not Rated</td>\n",
       "      <td>[\"After his brother's mysterious murder, Webb ...</td>\n",
       "      <td>22.0</td>\n",
       "      <td>1956</td>\n",
       "      <td>True</td>\n",
       "      <td>[hi, brother, mysteri, murder, webb, dunham, h...</td>\n",
       "    </tr>\n",
       "    <tr>\n",
       "      <th>9210</th>\n",
       "      <td>tt0040087</td>\n",
       "      <td>All My Sons</td>\n",
       "      <td>0</td>\n",
       "      <td>1948</td>\n",
       "      <td>94</td>\n",
       "      <td>7.4</td>\n",
       "      <td>['drama', 'film-noir']</td>\n",
       "      <td>Approved</td>\n",
       "      <td>[\"During WW2, industrialist Joe Keller commits...</td>\n",
       "      <td>1978.0</td>\n",
       "      <td>1948</td>\n",
       "      <td>True</td>\n",
       "      <td>[dure, ww, industrialist, joe, keller, commit,...</td>\n",
       "    </tr>\n",
       "    <tr>\n",
       "      <th>8344</th>\n",
       "      <td>tt0037858</td>\n",
       "      <td>The Lady Confesses</td>\n",
       "      <td>0</td>\n",
       "      <td>1945</td>\n",
       "      <td>64</td>\n",
       "      <td>5.9</td>\n",
       "      <td>['crime', 'drama', 'film-noir', 'mystery', 'th...</td>\n",
       "      <td>Approved</td>\n",
       "      <td>['An estranged wife shows up after a nearly 7 ...</td>\n",
       "      <td>363.0</td>\n",
       "      <td>1945</td>\n",
       "      <td>True</td>\n",
       "      <td>[estrang, wife, show, nearli, year, disappear,...</td>\n",
       "    </tr>\n",
       "  </tbody>\n",
       "</table>\n",
       "<p>10202 rows × 13 columns</p>\n",
       "</div>"
      ],
      "text/plain": [
       "          tconst        primaryTitle  isAdult  startYear  runtimeMinutes  \\\n",
       "5      tt0023534      En stulen vals        0       1932              83   \n",
       "9      tt0023541        Svarta rosor        0       1932              86   \n",
       "10     tt0023542      Svärmor kommer        0       1932              84   \n",
       "27     tt0023570   The Texas Tornado        0       1932              53   \n",
       "40     tt0023592     Thrill of Youth        0       1932              60   \n",
       "...          ...                 ...      ...        ...             ...   \n",
       "14646  tt0049476    Man in the Vault        0       1956              73   \n",
       "28517  tt0796926         Cheese Head        0       2006              90   \n",
       "14956  tt0049970         Yaqui Drums        0       1956              71   \n",
       "9210   tt0040087         All My Sons        0       1948              94   \n",
       "8344   tt0037858  The Lady Confesses        0       1945              64   \n",
       "\n",
       "       rating                                             genres       mpaa  \\\n",
       "5         3.9                                          ['drama']  Not Rated   \n",
       "9         4.8                                          ['drama']  Not Rated   \n",
       "10        3.8                                         ['comedy']  Not Rated   \n",
       "27        4.7                                        ['western']   Approved   \n",
       "40        3.9                                          ['drama']  Not Rated   \n",
       "...       ...                                                ...        ...   \n",
       "14646     6.0                    ['crime', 'drama', 'film-noir']   Approved   \n",
       "28517     6.0                                ['comedy', 'drama']  Not Rated   \n",
       "14956     5.9                                        ['western']  Not Rated   \n",
       "9210      7.4                             ['drama', 'film-noir']   Approved   \n",
       "8344      5.9  ['crime', 'drama', 'film-noir', 'mystery', 'th...   Approved   \n",
       "\n",
       "                                             description   votes  \\\n",
       "5      ['A guest house in Stockholm. A group of music...     9.0   \n",
       "9      ['The waitress Inga is pregnant and the father...     9.0   \n",
       "10     ['John and Ulla are happily married and live i...     8.0   \n",
       "27     ['Tex Robbins, a Texas Ranger, posing as \"Wolf...    25.0   \n",
       "40     ['A sensation-courting poverty-row entry in wh...    24.0   \n",
       "...                                                  ...     ...   \n",
       "14646  ['A locksmith gets caught up in a bank robbery...   417.0   \n",
       "28517  ['Year 1993. Ariel and his family spend their ...   502.0   \n",
       "14956  [\"After his brother's mysterious murder, Webb ...    22.0   \n",
       "9210   [\"During WW2, industrialist Joe Keller commits...  1978.0   \n",
       "8344   ['An estranged wife shows up after a nearly 7 ...   363.0   \n",
       "\n",
       "       year_process  rating_bool  \\\n",
       "5              1932        False   \n",
       "9              1932        False   \n",
       "10             1932        False   \n",
       "27             1932        False   \n",
       "40             1932        False   \n",
       "...             ...          ...   \n",
       "14646          1956         True   \n",
       "28517          2006         True   \n",
       "14956          1956         True   \n",
       "9210           1948         True   \n",
       "8344           1945         True   \n",
       "\n",
       "                                                  tokens  \n",
       "5      [guest, hous, stockholm, group, music, student...  \n",
       "9      [waitress, inga, pregnant, father, sailor, edv...  \n",
       "10     [john, ulla, happili, marri, live, villa, frid...  \n",
       "27     [tex, robbin, texa, ranger, pose, wolf, cassid...  \n",
       "40     [sensat, court, poverti, row, entri, town, vam...  \n",
       "...                                                  ...  \n",
       "14646  [locksmith, get, caught, bank, robberi, angel,...  \n",
       "28517  [year, ariel, hi, famili, spend, summer, idyl,...  \n",
       "14956  [hi, brother, mysteri, murder, webb, dunham, h...  \n",
       "9210   [dure, ww, industrialist, joe, keller, commit,...  \n",
       "8344   [estrang, wife, show, nearli, year, disappear,...  \n",
       "\n",
       "[10202 rows x 13 columns]"
      ]
     },
     "execution_count": 34,
     "metadata": {},
     "output_type": "execute_result"
    }
   ],
   "source": [
    "data_downsampled"
   ]
  },
  {
   "cell_type": "code",
   "execution_count": 36,
   "metadata": {},
   "outputs": [],
   "source": [
    "data_downsampled.to_csv('data\\data_downsampled.csv', index=False)"
   ]
  },
  {
   "cell_type": "markdown",
   "metadata": {},
   "source": [
    "## Bag of Words\n",
    "Is a distribution of frequencies for the words."
   ]
  },
  {
   "cell_type": "code",
   "execution_count": 35,
   "metadata": {},
   "outputs": [],
   "source": [
    "from nltk.probability import FreqDist"
   ]
  },
  {
   "cell_type": "code",
   "execution_count": null,
   "metadata": {},
   "outputs": [],
   "source": []
  }
 ],
 "metadata": {
  "interpreter": {
   "hash": "5f23c331dcc0e959a18d97d72b32723b8e8fefc4a029dc171226f15b89161c30"
  },
  "kernelspec": {
   "display_name": "Python 3.9.7 ('base')",
   "language": "python",
   "name": "python3"
  },
  "language_info": {
   "codemirror_mode": {
    "name": "ipython",
    "version": 3
   },
   "file_extension": ".py",
   "mimetype": "text/x-python",
   "name": "python",
   "nbconvert_exporter": "python",
   "pygments_lexer": "ipython3",
   "version": "3.9.7"
  },
  "orig_nbformat": 4
 },
 "nbformat": 4,
 "nbformat_minor": 2
}
