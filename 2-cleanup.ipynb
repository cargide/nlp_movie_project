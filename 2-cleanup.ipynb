{
 "cells": [
  {
   "cell_type": "markdown",
   "metadata": {},
   "source": [
    "# 2 - Cleanup\n",
    "Now that I have merged the downloaded data, I can start studying it to solve the issues thtat can by solved by deleting things."
   ]
  },
  {
   "cell_type": "code",
   "execution_count": 39,
   "metadata": {},
   "outputs": [],
   "source": [
    "import pandas as pd\n",
    "\n",
    "\n",
    "# data = pd.read_csv('data\\set_movies_sample_big.csv')\n",
    "# data = pd.read_csv('data\\imdb_full - 34k.csv')\n",
    "data = pd.read_csv('data\\imdb_full.csv')\n"
   ]
  },
  {
   "cell_type": "code",
   "execution_count": 40,
   "metadata": {},
   "outputs": [
    {
     "data": {
      "text/html": [
       "<div>\n",
       "<style scoped>\n",
       "    .dataframe tbody tr th:only-of-type {\n",
       "        vertical-align: middle;\n",
       "    }\n",
       "\n",
       "    .dataframe tbody tr th {\n",
       "        vertical-align: top;\n",
       "    }\n",
       "\n",
       "    .dataframe thead th {\n",
       "        text-align: right;\n",
       "    }\n",
       "</style>\n",
       "<table border=\"1\" class=\"dataframe\">\n",
       "  <thead>\n",
       "    <tr style=\"text-align: right;\">\n",
       "      <th></th>\n",
       "      <th>index</th>\n",
       "      <th>tconst</th>\n",
       "      <th>titleType</th>\n",
       "      <th>primaryTitle</th>\n",
       "      <th>originalTitle</th>\n",
       "      <th>isAdult</th>\n",
       "      <th>startYear</th>\n",
       "      <th>endYear</th>\n",
       "      <th>runtimeMinutes</th>\n",
       "      <th>genres</th>\n",
       "      <th>index.1</th>\n",
       "      <th>rating</th>\n",
       "      <th>genres.1</th>\n",
       "      <th>mpaa</th>\n",
       "      <th>description</th>\n",
       "      <th>votes</th>\n",
       "    </tr>\n",
       "  </thead>\n",
       "  <tbody>\n",
       "    <tr>\n",
       "      <th>0</th>\n",
       "      <td>23130</td>\n",
       "      <td>tt0023526</td>\n",
       "      <td>movie</td>\n",
       "      <td>Stranger in Town</td>\n",
       "      <td>Stranger in Town</td>\n",
       "      <td>0</td>\n",
       "      <td>1932</td>\n",
       "      <td>\\N</td>\n",
       "      <td>65</td>\n",
       "      <td>Drama</td>\n",
       "      <td>0</td>\n",
       "      <td>6.1</td>\n",
       "      <td>['drama']</td>\n",
       "      <td>TV-PG</td>\n",
       "      <td>[\"Ulysses Crickle owns a small town grocery st...</td>\n",
       "      <td>115.0</td>\n",
       "    </tr>\n",
       "    <tr>\n",
       "      <th>1</th>\n",
       "      <td>23131</td>\n",
       "      <td>tt0023527</td>\n",
       "      <td>movie</td>\n",
       "      <td>Strangers in Love</td>\n",
       "      <td>Strangers in Love</td>\n",
       "      <td>0</td>\n",
       "      <td>1932</td>\n",
       "      <td>\\N</td>\n",
       "      <td>76</td>\n",
       "      <td>Comedy,Drama</td>\n",
       "      <td>1</td>\n",
       "      <td>6.7</td>\n",
       "      <td>['comedy', 'drama']</td>\n",
       "      <td>NaN</td>\n",
       "      <td>['_Strangers in Love_ (qv) is a 1932 American ...</td>\n",
       "      <td>144.0</td>\n",
       "    </tr>\n",
       "    <tr>\n",
       "      <th>2</th>\n",
       "      <td>23132</td>\n",
       "      <td>tt0023528</td>\n",
       "      <td>movie</td>\n",
       "      <td>Strangers of the Evening</td>\n",
       "      <td>Strangers of the Evening</td>\n",
       "      <td>0</td>\n",
       "      <td>1932</td>\n",
       "      <td>\\N</td>\n",
       "      <td>70</td>\n",
       "      <td>Comedy,Mystery</td>\n",
       "      <td>2</td>\n",
       "      <td>5.0</td>\n",
       "      <td>['comedy', 'mystery']</td>\n",
       "      <td>Passed</td>\n",
       "      <td>['Bodies start mysteriously disappearing from ...</td>\n",
       "      <td>218.0</td>\n",
       "    </tr>\n",
       "    <tr>\n",
       "      <th>3</th>\n",
       "      <td>23133</td>\n",
       "      <td>tt0023529</td>\n",
       "      <td>movie</td>\n",
       "      <td>Street of Women</td>\n",
       "      <td>Street of Women</td>\n",
       "      <td>0</td>\n",
       "      <td>1932</td>\n",
       "      <td>\\N</td>\n",
       "      <td>59</td>\n",
       "      <td>Drama,Romance</td>\n",
       "      <td>3</td>\n",
       "      <td>6.0</td>\n",
       "      <td>['drama', 'romance']</td>\n",
       "      <td>Passed</td>\n",
       "      <td>[\"A married architect, stuck in a loveless mar...</td>\n",
       "      <td>356.0</td>\n",
       "    </tr>\n",
       "    <tr>\n",
       "      <th>4</th>\n",
       "      <td>23134</td>\n",
       "      <td>tt0023530</td>\n",
       "      <td>movie</td>\n",
       "      <td>Spoiling the Game</td>\n",
       "      <td>Strich durch die Rechnung</td>\n",
       "      <td>0</td>\n",
       "      <td>1932</td>\n",
       "      <td>\\N</td>\n",
       "      <td>99</td>\n",
       "      <td>Comedy</td>\n",
       "      <td>4</td>\n",
       "      <td>6.6</td>\n",
       "      <td>['comedy']</td>\n",
       "      <td>NaN</td>\n",
       "      <td>['Whoever of a group of eager bicycle racers f...</td>\n",
       "      <td>14.0</td>\n",
       "    </tr>\n",
       "    <tr>\n",
       "      <th>...</th>\n",
       "      <td>...</td>\n",
       "      <td>...</td>\n",
       "      <td>...</td>\n",
       "      <td>...</td>\n",
       "      <td>...</td>\n",
       "      <td>...</td>\n",
       "      <td>...</td>\n",
       "      <td>...</td>\n",
       "      <td>...</td>\n",
       "      <td>...</td>\n",
       "      <td>...</td>\n",
       "      <td>...</td>\n",
       "      <td>...</td>\n",
       "      <td>...</td>\n",
       "      <td>...</td>\n",
       "      <td>...</td>\n",
       "    </tr>\n",
       "    <tr>\n",
       "      <th>61995</th>\n",
       "      <td>2995</td>\n",
       "      <td>tt1540764</td>\n",
       "      <td>movie</td>\n",
       "      <td>Anomaly</td>\n",
       "      <td>Anomaly</td>\n",
       "      <td>0</td>\n",
       "      <td>2010</td>\n",
       "      <td>\\N</td>\n",
       "      <td>71</td>\n",
       "      <td>Sci-Fi</td>\n",
       "      <td>995</td>\n",
       "      <td>NaN</td>\n",
       "      <td>['sci-fi']</td>\n",
       "      <td>Not Rated</td>\n",
       "      <td>['A UFO crashes in the Bronx. Is it from anoth...</td>\n",
       "      <td>NaN</td>\n",
       "    </tr>\n",
       "    <tr>\n",
       "      <th>61996</th>\n",
       "      <td>2996</td>\n",
       "      <td>tt0228627</td>\n",
       "      <td>movie</td>\n",
       "      <td>Mí querido viejo</td>\n",
       "      <td>Mí querido viejo</td>\n",
       "      <td>0</td>\n",
       "      <td>1991</td>\n",
       "      <td>\\N</td>\n",
       "      <td>\\N</td>\n",
       "      <td>Drama</td>\n",
       "      <td>996</td>\n",
       "      <td>6.6</td>\n",
       "      <td>['drama']</td>\n",
       "      <td>NaN</td>\n",
       "      <td>NaN</td>\n",
       "      <td>58.0</td>\n",
       "    </tr>\n",
       "    <tr>\n",
       "      <th>61997</th>\n",
       "      <td>2997</td>\n",
       "      <td>tt0804466</td>\n",
       "      <td>movie</td>\n",
       "      <td>The Dork of the Rings</td>\n",
       "      <td>The Dork of the Rings</td>\n",
       "      <td>0</td>\n",
       "      <td>2006</td>\n",
       "      <td>\\N</td>\n",
       "      <td>90</td>\n",
       "      <td>Adventure,Comedy,Fantasy</td>\n",
       "      <td>997</td>\n",
       "      <td>4.3</td>\n",
       "      <td>['adventure', 'comedy', 'fantasy']</td>\n",
       "      <td>Not Rated</td>\n",
       "      <td>['Frudo Buggins must deliver The One Ring of B...</td>\n",
       "      <td>142.0</td>\n",
       "    </tr>\n",
       "    <tr>\n",
       "      <th>61998</th>\n",
       "      <td>2998</td>\n",
       "      <td>tt6080158</td>\n",
       "      <td>movie</td>\n",
       "      <td>Not Alone</td>\n",
       "      <td>Not Alone</td>\n",
       "      <td>0</td>\n",
       "      <td>2016</td>\n",
       "      <td>\\N</td>\n",
       "      <td>51</td>\n",
       "      <td>Documentary</td>\n",
       "      <td>998</td>\n",
       "      <td>6.1</td>\n",
       "      <td>['documentary']</td>\n",
       "      <td>TV-14</td>\n",
       "      <td>['Driven by a desire to understand why her bes...</td>\n",
       "      <td>192.0</td>\n",
       "    </tr>\n",
       "    <tr>\n",
       "      <th>61999</th>\n",
       "      <td>2999</td>\n",
       "      <td>tt4745282</td>\n",
       "      <td>movie</td>\n",
       "      <td>The Game of Kings 2</td>\n",
       "      <td>The Game of Kings 2</td>\n",
       "      <td>0</td>\n",
       "      <td>2023</td>\n",
       "      <td>\\N</td>\n",
       "      <td>\\N</td>\n",
       "      <td>Drama</td>\n",
       "      <td>999</td>\n",
       "      <td>NaN</td>\n",
       "      <td>['drama']</td>\n",
       "      <td>NaN</td>\n",
       "      <td>['POLO is a character-driven Cinderella story ...</td>\n",
       "      <td>NaN</td>\n",
       "    </tr>\n",
       "  </tbody>\n",
       "</table>\n",
       "<p>62000 rows × 16 columns</p>\n",
       "</div>"
      ],
      "text/plain": [
       "       index     tconst titleType              primaryTitle  \\\n",
       "0      23130  tt0023526     movie          Stranger in Town   \n",
       "1      23131  tt0023527     movie         Strangers in Love   \n",
       "2      23132  tt0023528     movie  Strangers of the Evening   \n",
       "3      23133  tt0023529     movie           Street of Women   \n",
       "4      23134  tt0023530     movie         Spoiling the Game   \n",
       "...      ...        ...       ...                       ...   \n",
       "61995   2995  tt1540764     movie                   Anomaly   \n",
       "61996   2996  tt0228627     movie          Mí querido viejo   \n",
       "61997   2997  tt0804466     movie     The Dork of the Rings   \n",
       "61998   2998  tt6080158     movie                 Not Alone   \n",
       "61999   2999  tt4745282     movie       The Game of Kings 2   \n",
       "\n",
       "                   originalTitle  isAdult  startYear endYear runtimeMinutes  \\\n",
       "0               Stranger in Town        0       1932      \\N             65   \n",
       "1              Strangers in Love        0       1932      \\N             76   \n",
       "2       Strangers of the Evening        0       1932      \\N             70   \n",
       "3                Street of Women        0       1932      \\N             59   \n",
       "4      Strich durch die Rechnung        0       1932      \\N             99   \n",
       "...                          ...      ...        ...     ...            ...   \n",
       "61995                    Anomaly        0       2010      \\N             71   \n",
       "61996           Mí querido viejo        0       1991      \\N             \\N   \n",
       "61997      The Dork of the Rings        0       2006      \\N             90   \n",
       "61998                  Not Alone        0       2016      \\N             51   \n",
       "61999        The Game of Kings 2        0       2023      \\N             \\N   \n",
       "\n",
       "                         genres  index.1  rating  \\\n",
       "0                         Drama        0     6.1   \n",
       "1                  Comedy,Drama        1     6.7   \n",
       "2                Comedy,Mystery        2     5.0   \n",
       "3                 Drama,Romance        3     6.0   \n",
       "4                        Comedy        4     6.6   \n",
       "...                         ...      ...     ...   \n",
       "61995                    Sci-Fi      995     NaN   \n",
       "61996                     Drama      996     6.6   \n",
       "61997  Adventure,Comedy,Fantasy      997     4.3   \n",
       "61998               Documentary      998     6.1   \n",
       "61999                     Drama      999     NaN   \n",
       "\n",
       "                                 genres.1       mpaa  \\\n",
       "0                               ['drama']      TV-PG   \n",
       "1                     ['comedy', 'drama']        NaN   \n",
       "2                   ['comedy', 'mystery']     Passed   \n",
       "3                    ['drama', 'romance']     Passed   \n",
       "4                              ['comedy']        NaN   \n",
       "...                                   ...        ...   \n",
       "61995                          ['sci-fi']  Not Rated   \n",
       "61996                           ['drama']        NaN   \n",
       "61997  ['adventure', 'comedy', 'fantasy']  Not Rated   \n",
       "61998                     ['documentary']      TV-14   \n",
       "61999                           ['drama']        NaN   \n",
       "\n",
       "                                             description  votes  \n",
       "0      [\"Ulysses Crickle owns a small town grocery st...  115.0  \n",
       "1      ['_Strangers in Love_ (qv) is a 1932 American ...  144.0  \n",
       "2      ['Bodies start mysteriously disappearing from ...  218.0  \n",
       "3      [\"A married architect, stuck in a loveless mar...  356.0  \n",
       "4      ['Whoever of a group of eager bicycle racers f...   14.0  \n",
       "...                                                  ...    ...  \n",
       "61995  ['A UFO crashes in the Bronx. Is it from anoth...    NaN  \n",
       "61996                                                NaN   58.0  \n",
       "61997  ['Frudo Buggins must deliver The One Ring of B...  142.0  \n",
       "61998  ['Driven by a desire to understand why her bes...  192.0  \n",
       "61999  ['POLO is a character-driven Cinderella story ...    NaN  \n",
       "\n",
       "[62000 rows x 16 columns]"
      ]
     },
     "execution_count": 40,
     "metadata": {},
     "output_type": "execute_result"
    }
   ],
   "source": [
    "data"
   ]
  },
  {
   "cell_type": "markdown",
   "metadata": {},
   "source": [
    "## Columns\n",
    "According to the definition in https://www.imdb.com/interfaces/ movies don't have an 'End Year', as that value is reserved for series. As such, this column has no use for me."
   ]
  },
  {
   "cell_type": "code",
   "execution_count": 41,
   "metadata": {},
   "outputs": [],
   "source": [
    "# data.endYear.value_counts()\n"
   ]
  },
  {
   "cell_type": "code",
   "execution_count": 42,
   "metadata": {},
   "outputs": [],
   "source": [
    "cols_to_drop = []\n",
    "cols_to_drop.append('endYear')"
   ]
  },
  {
   "cell_type": "markdown",
   "metadata": {},
   "source": [
    "The column ``titleType`` has only movie as values, because I already filtered anything else at the beggining."
   ]
  },
  {
   "cell_type": "code",
   "execution_count": 43,
   "metadata": {},
   "outputs": [],
   "source": [
    "cols_to_drop.append('titleType')"
   ]
  },
  {
   "cell_type": "markdown",
   "metadata": {},
   "source": [
    "The ``index`` column is here as a small mistake when merging the sources and can be dropped without issue. It happens 3 times, but they all will drop at the same time.\n",
    "The ``tconst`` column, even though it will serve no purpose at modeling because it is just the ID in IMDb, will be kept in case I need to expand information in the future."
   ]
  },
  {
   "cell_type": "code",
   "execution_count": 44,
   "metadata": {},
   "outputs": [],
   "source": [
    "cols_to_drop.append('index')\n",
    "cols_to_drop.append('index.1')"
   ]
  },
  {
   "cell_type": "markdown",
   "metadata": {},
   "source": [
    "I have two columns of genders, but the second one has the same information but in a better format, so I will delete the other."
   ]
  },
  {
   "cell_type": "code",
   "execution_count": 45,
   "metadata": {},
   "outputs": [],
   "source": [
    "cols_to_drop.append('genres')"
   ]
  },
  {
   "cell_type": "markdown",
   "metadata": {},
   "source": [
    "There are also two columns for names and they won't affect much, but still I will keep the names in English from ''primaryTitle''."
   ]
  },
  {
   "cell_type": "code",
   "execution_count": 46,
   "metadata": {},
   "outputs": [],
   "source": [
    "cols_to_drop.append('originalTitle')"
   ]
  },
  {
   "cell_type": "markdown",
   "metadata": {},
   "source": [
    "Now it's time to drop some columns."
   ]
  },
  {
   "cell_type": "code",
   "execution_count": 47,
   "metadata": {},
   "outputs": [
    {
     "name": "stderr",
     "output_type": "stream",
     "text": [
      "C:\\Users\\carlo\\AppData\\Local\\Temp/ipykernel_1936/1662013735.py:1: FutureWarning: In a future version of pandas all arguments of DataFrame.drop except for the argument 'labels' will be keyword-only\n",
      "  data = data.drop(cols_to_drop, 1)\n"
     ]
    },
    {
     "data": {
      "text/html": [
       "<div>\n",
       "<style scoped>\n",
       "    .dataframe tbody tr th:only-of-type {\n",
       "        vertical-align: middle;\n",
       "    }\n",
       "\n",
       "    .dataframe tbody tr th {\n",
       "        vertical-align: top;\n",
       "    }\n",
       "\n",
       "    .dataframe thead th {\n",
       "        text-align: right;\n",
       "    }\n",
       "</style>\n",
       "<table border=\"1\" class=\"dataframe\">\n",
       "  <thead>\n",
       "    <tr style=\"text-align: right;\">\n",
       "      <th></th>\n",
       "      <th>tconst</th>\n",
       "      <th>primaryTitle</th>\n",
       "      <th>isAdult</th>\n",
       "      <th>startYear</th>\n",
       "      <th>runtimeMinutes</th>\n",
       "      <th>rating</th>\n",
       "      <th>genres.1</th>\n",
       "      <th>mpaa</th>\n",
       "      <th>description</th>\n",
       "      <th>votes</th>\n",
       "    </tr>\n",
       "  </thead>\n",
       "  <tbody>\n",
       "    <tr>\n",
       "      <th>0</th>\n",
       "      <td>tt0023526</td>\n",
       "      <td>Stranger in Town</td>\n",
       "      <td>0</td>\n",
       "      <td>1932</td>\n",
       "      <td>65</td>\n",
       "      <td>6.1</td>\n",
       "      <td>['drama']</td>\n",
       "      <td>TV-PG</td>\n",
       "      <td>[\"Ulysses Crickle owns a small town grocery st...</td>\n",
       "      <td>115.0</td>\n",
       "    </tr>\n",
       "  </tbody>\n",
       "</table>\n",
       "</div>"
      ],
      "text/plain": [
       "      tconst      primaryTitle  isAdult  startYear runtimeMinutes  rating  \\\n",
       "0  tt0023526  Stranger in Town        0       1932             65     6.1   \n",
       "\n",
       "    genres.1   mpaa                                        description  votes  \n",
       "0  ['drama']  TV-PG  [\"Ulysses Crickle owns a small town grocery st...  115.0  "
      ]
     },
     "execution_count": 47,
     "metadata": {},
     "output_type": "execute_result"
    }
   ],
   "source": [
    "data = data.drop(cols_to_drop, 1)\n",
    "data.head(1)"
   ]
  },
  {
   "cell_type": "markdown",
   "metadata": {},
   "source": [
    "## NaNs"
   ]
  },
  {
   "cell_type": "code",
   "execution_count": 48,
   "metadata": {},
   "outputs": [
    {
     "data": {
      "text/plain": [
       "tconst            0.000000\n",
       "primaryTitle      0.000000\n",
       "isAdult           0.000000\n",
       "startYear         0.000000\n",
       "runtimeMinutes    0.000000\n",
       "rating            0.255145\n",
       "genres.1          0.010355\n",
       "mpaa              0.666306\n",
       "description       0.250258\n",
       "votes             0.255145\n",
       "dtype: float64"
      ]
     },
     "execution_count": 48,
     "metadata": {},
     "output_type": "execute_result"
    }
   ],
   "source": [
    "data.isna().sum()/len(data)"
   ]
  },
  {
   "cell_type": "markdown",
   "metadata": {},
   "source": [
    "From this overview I can get some conclussions:  \n",
    "- The first columns are all populated because the come from an official database  \n",
    "- the last 2 columns appear as filled with errors due to a problem with the scraper, I will try to solve it later."
   ]
  },
  {
   "cell_type": "markdown",
   "metadata": {},
   "source": [
    "### ``rating``\n",
    "This column is going to be one of my targets, so I need to keep the actual data and remove the rest."
   ]
  },
  {
   "cell_type": "code",
   "execution_count": 49,
   "metadata": {},
   "outputs": [],
   "source": [
    "data = data.dropna(subset=['rating'])"
   ]
  },
  {
   "cell_type": "markdown",
   "metadata": {},
   "source": [
    "### ``mpaa``\n",
    "The age rating has a list of defined values: \n",
    "* **G – General Audiences**\n",
    "* **PG – Parental Guidance Suggested**\n",
    "* **PG-13 – Parents Strongly Cautioned**\n",
    "* **R – Restricted**\n",
    "* **NC-17 – Adults Only**\n"
   ]
  },
  {
   "cell_type": "code",
   "execution_count": 50,
   "metadata": {},
   "outputs": [
    {
     "data": {
      "text/plain": [
       "NaN          26170\n",
       "Approved      6188\n",
       "Not Rated     4329\n",
       "Passed        3662\n",
       "R             1831\n",
       "PG             706\n",
       "TV-PG          538\n",
       "Unrated        532\n",
       "G              427\n",
       "PG-13          363\n",
       "TV-14          297\n",
       "X              283\n",
       "GP             227\n",
       "TV-G           222\n",
       "TV-MA          217\n",
       "M               92\n",
       "M/PG            60\n",
       "TV-Y7           13\n",
       "NC-17           10\n",
       "TV-Y7-FV         5\n",
       "TV-Y             4\n",
       "Open             2\n",
       "TV-13            2\n",
       "E                1\n",
       "Name: mpaa, dtype: int64"
      ]
     },
     "execution_count": 50,
     "metadata": {},
     "output_type": "execute_result"
    }
   ],
   "source": [
    "data.mpaa.value_counts(dropna=False)"
   ]
  },
  {
   "cell_type": "markdown",
   "metadata": {},
   "source": [
    "\n",
    "For now, I will assign the empty values to the most common appearance, that is Not Rated.\n",
    "The rest of the changes will come later."
   ]
  },
  {
   "cell_type": "code",
   "execution_count": 51,
   "metadata": {},
   "outputs": [],
   "source": [
    "data.mpaa.fillna('Not Rated', inplace=True)\n",
    "# data.mpaa.value_counts(dropna=False)"
   ]
  },
  {
   "cell_type": "markdown",
   "metadata": {},
   "source": [
    "### ``description``\n",
    "As the most important column, I have no use for rows with no information in it, so I need to remove them."
   ]
  },
  {
   "cell_type": "code",
   "execution_count": 52,
   "metadata": {},
   "outputs": [],
   "source": [
    "data = data.dropna(subset=['description'])"
   ]
  },
  {
   "cell_type": "markdown",
   "metadata": {},
   "source": [
    "Lastly, the columns that come from Rotten Tomatoes have to be deleted, as I have lost access to the web."
   ]
  },
  {
   "cell_type": "code",
   "execution_count": 53,
   "metadata": {},
   "outputs": [],
   "source": [
    "# data = data.drop(['rt_critics_score', 'rt_audience_score'], 1)\n",
    "# data.head(1)"
   ]
  },
  {
   "cell_type": "code",
   "execution_count": 54,
   "metadata": {},
   "outputs": [],
   "source": [
    "# data.to_csv('data\\movies_clean.csv', index=False)\n",
    "data.to_csv('data\\sample_clean.csv', index=False)"
   ]
  },
  {
   "cell_type": "code",
   "execution_count": 55,
   "metadata": {},
   "outputs": [
    {
     "data": {
      "text/plain": [
       "tconst            0.0\n",
       "primaryTitle      0.0\n",
       "isAdult           0.0\n",
       "startYear         0.0\n",
       "runtimeMinutes    0.0\n",
       "rating            0.0\n",
       "genres.1          0.0\n",
       "mpaa              0.0\n",
       "description       0.0\n",
       "votes             0.0\n",
       "dtype: float64"
      ]
     },
     "execution_count": 55,
     "metadata": {},
     "output_type": "execute_result"
    }
   ],
   "source": [
    "data.isna().sum()/len(data)"
   ]
  }
 ],
 "metadata": {
  "interpreter": {
   "hash": "5f23c331dcc0e959a18d97d72b32723b8e8fefc4a029dc171226f15b89161c30"
  },
  "kernelspec": {
   "display_name": "Python 3.9.7 ('base')",
   "language": "python",
   "name": "python3"
  },
  "language_info": {
   "codemirror_mode": {
    "name": "ipython",
    "version": 3
   },
   "file_extension": ".py",
   "mimetype": "text/x-python",
   "name": "python",
   "nbconvert_exporter": "python",
   "pygments_lexer": "ipython3",
   "version": "3.9.7"
  },
  "orig_nbformat": 4
 },
 "nbformat": 4,
 "nbformat_minor": 2
}
