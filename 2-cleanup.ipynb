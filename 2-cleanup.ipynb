{
 "cells": [
  {
   "cell_type": "markdown",
   "metadata": {},
   "source": [
    "# 2 - Cleanup\n",
    "Now that I have merged the downloaded data, I can start studying it to solve the issues thtat can by solved by deleting things."
   ]
  },
  {
   "cell_type": "code",
   "execution_count": 11,
   "metadata": {},
   "outputs": [],
   "source": [
    "import pandas as pd\n",
    "\n",
    "\n",
    "# data = pd.read_csv('data\\set_movies_sample_big.csv')\n",
    "data = pd.read_csv('data\\imdb_full - 34k.csv')"
   ]
  },
  {
   "cell_type": "code",
   "execution_count": 12,
   "metadata": {},
   "outputs": [
    {
     "data": {
      "text/html": [
       "<div>\n",
       "<style scoped>\n",
       "    .dataframe tbody tr th:only-of-type {\n",
       "        vertical-align: middle;\n",
       "    }\n",
       "\n",
       "    .dataframe tbody tr th {\n",
       "        vertical-align: top;\n",
       "    }\n",
       "\n",
       "    .dataframe thead th {\n",
       "        text-align: right;\n",
       "    }\n",
       "</style>\n",
       "<table border=\"1\" class=\"dataframe\">\n",
       "  <thead>\n",
       "    <tr style=\"text-align: right;\">\n",
       "      <th></th>\n",
       "      <th>index</th>\n",
       "      <th>tconst</th>\n",
       "      <th>titleType</th>\n",
       "      <th>primaryTitle</th>\n",
       "      <th>originalTitle</th>\n",
       "      <th>isAdult</th>\n",
       "      <th>startYear</th>\n",
       "      <th>endYear</th>\n",
       "      <th>runtimeMinutes</th>\n",
       "      <th>genres</th>\n",
       "      <th>index.1</th>\n",
       "      <th>rating</th>\n",
       "      <th>genres.1</th>\n",
       "      <th>mpaa</th>\n",
       "      <th>description</th>\n",
       "      <th>votes</th>\n",
       "    </tr>\n",
       "  </thead>\n",
       "  <tbody>\n",
       "    <tr>\n",
       "      <th>0</th>\n",
       "      <td>23130</td>\n",
       "      <td>tt0023526</td>\n",
       "      <td>movie</td>\n",
       "      <td>Stranger in Town</td>\n",
       "      <td>Stranger in Town</td>\n",
       "      <td>0</td>\n",
       "      <td>1932</td>\n",
       "      <td>\\N</td>\n",
       "      <td>65</td>\n",
       "      <td>Drama</td>\n",
       "      <td>0</td>\n",
       "      <td>6.1</td>\n",
       "      <td>['drama']</td>\n",
       "      <td>TV-PG</td>\n",
       "      <td>[\"Ulysses Crickle owns a small town grocery st...</td>\n",
       "      <td>115.0</td>\n",
       "    </tr>\n",
       "    <tr>\n",
       "      <th>1</th>\n",
       "      <td>23131</td>\n",
       "      <td>tt0023527</td>\n",
       "      <td>movie</td>\n",
       "      <td>Strangers in Love</td>\n",
       "      <td>Strangers in Love</td>\n",
       "      <td>0</td>\n",
       "      <td>1932</td>\n",
       "      <td>\\N</td>\n",
       "      <td>76</td>\n",
       "      <td>Comedy,Drama</td>\n",
       "      <td>1</td>\n",
       "      <td>6.7</td>\n",
       "      <td>['comedy', 'drama']</td>\n",
       "      <td>NaN</td>\n",
       "      <td>['_Strangers in Love_ (qv) is a 1932 American ...</td>\n",
       "      <td>144.0</td>\n",
       "    </tr>\n",
       "    <tr>\n",
       "      <th>2</th>\n",
       "      <td>23132</td>\n",
       "      <td>tt0023528</td>\n",
       "      <td>movie</td>\n",
       "      <td>Strangers of the Evening</td>\n",
       "      <td>Strangers of the Evening</td>\n",
       "      <td>0</td>\n",
       "      <td>1932</td>\n",
       "      <td>\\N</td>\n",
       "      <td>70</td>\n",
       "      <td>Comedy,Mystery</td>\n",
       "      <td>2</td>\n",
       "      <td>5.0</td>\n",
       "      <td>['comedy', 'mystery']</td>\n",
       "      <td>Passed</td>\n",
       "      <td>['Bodies start mysteriously disappearing from ...</td>\n",
       "      <td>218.0</td>\n",
       "    </tr>\n",
       "    <tr>\n",
       "      <th>3</th>\n",
       "      <td>23133</td>\n",
       "      <td>tt0023529</td>\n",
       "      <td>movie</td>\n",
       "      <td>Street of Women</td>\n",
       "      <td>Street of Women</td>\n",
       "      <td>0</td>\n",
       "      <td>1932</td>\n",
       "      <td>\\N</td>\n",
       "      <td>59</td>\n",
       "      <td>Drama,Romance</td>\n",
       "      <td>3</td>\n",
       "      <td>6.0</td>\n",
       "      <td>['drama', 'romance']</td>\n",
       "      <td>Passed</td>\n",
       "      <td>[\"A married architect, stuck in a loveless mar...</td>\n",
       "      <td>356.0</td>\n",
       "    </tr>\n",
       "    <tr>\n",
       "      <th>4</th>\n",
       "      <td>23134</td>\n",
       "      <td>tt0023530</td>\n",
       "      <td>movie</td>\n",
       "      <td>Spoiling the Game</td>\n",
       "      <td>Strich durch die Rechnung</td>\n",
       "      <td>0</td>\n",
       "      <td>1932</td>\n",
       "      <td>\\N</td>\n",
       "      <td>99</td>\n",
       "      <td>Comedy</td>\n",
       "      <td>4</td>\n",
       "      <td>6.6</td>\n",
       "      <td>['comedy']</td>\n",
       "      <td>NaN</td>\n",
       "      <td>['Whoever of a group of eager bicycle racers f...</td>\n",
       "      <td>14.0</td>\n",
       "    </tr>\n",
       "    <tr>\n",
       "      <th>...</th>\n",
       "      <td>...</td>\n",
       "      <td>...</td>\n",
       "      <td>...</td>\n",
       "      <td>...</td>\n",
       "      <td>...</td>\n",
       "      <td>...</td>\n",
       "      <td>...</td>\n",
       "      <td>...</td>\n",
       "      <td>...</td>\n",
       "      <td>...</td>\n",
       "      <td>...</td>\n",
       "      <td>...</td>\n",
       "      <td>...</td>\n",
       "      <td>...</td>\n",
       "      <td>...</td>\n",
       "      <td>...</td>\n",
       "    </tr>\n",
       "    <tr>\n",
       "      <th>33995</th>\n",
       "      <td>68713</td>\n",
       "      <td>tt0070129</td>\n",
       "      <td>movie</td>\n",
       "      <td>La grande nouba</td>\n",
       "      <td>La grande nouba</td>\n",
       "      <td>0</td>\n",
       "      <td>1974</td>\n",
       "      <td>\\N</td>\n",
       "      <td>95</td>\n",
       "      <td>Comedy</td>\n",
       "      <td>995</td>\n",
       "      <td>3.5</td>\n",
       "      <td>['comedy']</td>\n",
       "      <td>NaN</td>\n",
       "      <td>['The viscount Galmiche de Quoibedec and his w...</td>\n",
       "      <td>22.0</td>\n",
       "    </tr>\n",
       "    <tr>\n",
       "      <th>33996</th>\n",
       "      <td>68714</td>\n",
       "      <td>tt0070130</td>\n",
       "      <td>movie</td>\n",
       "      <td>La Grande Bouffe</td>\n",
       "      <td>La grande bouffe</td>\n",
       "      <td>0</td>\n",
       "      <td>1973</td>\n",
       "      <td>\\N</td>\n",
       "      <td>130</td>\n",
       "      <td>Comedy,Drama</td>\n",
       "      <td>996</td>\n",
       "      <td>7.1</td>\n",
       "      <td>['comedy', 'drama']</td>\n",
       "      <td>NC-17</td>\n",
       "      <td>['A group of men go to a villa in the French c...</td>\n",
       "      <td>13058.0</td>\n",
       "    </tr>\n",
       "    <tr>\n",
       "      <th>33997</th>\n",
       "      <td>68715</td>\n",
       "      <td>tt0070131</td>\n",
       "      <td>movie</td>\n",
       "      <td>Lifesize</td>\n",
       "      <td>Grandeur nature</td>\n",
       "      <td>0</td>\n",
       "      <td>1974</td>\n",
       "      <td>\\N</td>\n",
       "      <td>101</td>\n",
       "      <td>Comedy,Drama,Fantasy</td>\n",
       "      <td>997</td>\n",
       "      <td>6.4</td>\n",
       "      <td>['comedy', 'drama', 'fantasy']</td>\n",
       "      <td>X</td>\n",
       "      <td>['Michel is a middle aged man with a troubled ...</td>\n",
       "      <td>377.0</td>\n",
       "    </tr>\n",
       "    <tr>\n",
       "      <th>33998</th>\n",
       "      <td>68716</td>\n",
       "      <td>tt0070132</td>\n",
       "      <td>movie</td>\n",
       "      <td>Big Sentiments Make for Good Sports</td>\n",
       "      <td>Les grands sentiments font les bons gueuletons</td>\n",
       "      <td>0</td>\n",
       "      <td>1973</td>\n",
       "      <td>\\N</td>\n",
       "      <td>105</td>\n",
       "      <td>Comedy</td>\n",
       "      <td>998</td>\n",
       "      <td>6.2</td>\n",
       "      <td>['comedy']</td>\n",
       "      <td>NaN</td>\n",
       "      <td>NaN</td>\n",
       "      <td>35.0</td>\n",
       "    </tr>\n",
       "    <tr>\n",
       "      <th>33999</th>\n",
       "      <td>68717</td>\n",
       "      <td>tt0070133</td>\n",
       "      <td>movie</td>\n",
       "      <td>The Burned Barns</td>\n",
       "      <td>Les granges brûlées</td>\n",
       "      <td>0</td>\n",
       "      <td>1973</td>\n",
       "      <td>\\N</td>\n",
       "      <td>95</td>\n",
       "      <td>Crime,Drama,Mystery</td>\n",
       "      <td>999</td>\n",
       "      <td>6.7</td>\n",
       "      <td>['crime', 'drama', 'mystery', 'thriller']</td>\n",
       "      <td>NaN</td>\n",
       "      <td>['The body of a young woman is discovered near...</td>\n",
       "      <td>953.0</td>\n",
       "    </tr>\n",
       "  </tbody>\n",
       "</table>\n",
       "<p>34000 rows × 16 columns</p>\n",
       "</div>"
      ],
      "text/plain": [
       "       index     tconst titleType                         primaryTitle  \\\n",
       "0      23130  tt0023526     movie                     Stranger in Town   \n",
       "1      23131  tt0023527     movie                    Strangers in Love   \n",
       "2      23132  tt0023528     movie             Strangers of the Evening   \n",
       "3      23133  tt0023529     movie                      Street of Women   \n",
       "4      23134  tt0023530     movie                    Spoiling the Game   \n",
       "...      ...        ...       ...                                  ...   \n",
       "33995  68713  tt0070129     movie                      La grande nouba   \n",
       "33996  68714  tt0070130     movie                     La Grande Bouffe   \n",
       "33997  68715  tt0070131     movie                             Lifesize   \n",
       "33998  68716  tt0070132     movie  Big Sentiments Make for Good Sports   \n",
       "33999  68717  tt0070133     movie                     The Burned Barns   \n",
       "\n",
       "                                        originalTitle  isAdult  startYear  \\\n",
       "0                                    Stranger in Town        0       1932   \n",
       "1                                   Strangers in Love        0       1932   \n",
       "2                            Strangers of the Evening        0       1932   \n",
       "3                                     Street of Women        0       1932   \n",
       "4                           Strich durch die Rechnung        0       1932   \n",
       "...                                               ...      ...        ...   \n",
       "33995                                 La grande nouba        0       1974   \n",
       "33996                                La grande bouffe        0       1973   \n",
       "33997                                 Grandeur nature        0       1974   \n",
       "33998  Les grands sentiments font les bons gueuletons        0       1973   \n",
       "33999                             Les granges brûlées        0       1973   \n",
       "\n",
       "      endYear runtimeMinutes                genres  index.1  rating  \\\n",
       "0          \\N             65                 Drama        0     6.1   \n",
       "1          \\N             76          Comedy,Drama        1     6.7   \n",
       "2          \\N             70        Comedy,Mystery        2     5.0   \n",
       "3          \\N             59         Drama,Romance        3     6.0   \n",
       "4          \\N             99                Comedy        4     6.6   \n",
       "...       ...            ...                   ...      ...     ...   \n",
       "33995      \\N             95                Comedy      995     3.5   \n",
       "33996      \\N            130          Comedy,Drama      996     7.1   \n",
       "33997      \\N            101  Comedy,Drama,Fantasy      997     6.4   \n",
       "33998      \\N            105                Comedy      998     6.2   \n",
       "33999      \\N             95   Crime,Drama,Mystery      999     6.7   \n",
       "\n",
       "                                        genres.1    mpaa  \\\n",
       "0                                      ['drama']   TV-PG   \n",
       "1                            ['comedy', 'drama']     NaN   \n",
       "2                          ['comedy', 'mystery']  Passed   \n",
       "3                           ['drama', 'romance']  Passed   \n",
       "4                                     ['comedy']     NaN   \n",
       "...                                          ...     ...   \n",
       "33995                                 ['comedy']     NaN   \n",
       "33996                        ['comedy', 'drama']   NC-17   \n",
       "33997             ['comedy', 'drama', 'fantasy']       X   \n",
       "33998                                 ['comedy']     NaN   \n",
       "33999  ['crime', 'drama', 'mystery', 'thriller']     NaN   \n",
       "\n",
       "                                             description    votes  \n",
       "0      [\"Ulysses Crickle owns a small town grocery st...    115.0  \n",
       "1      ['_Strangers in Love_ (qv) is a 1932 American ...    144.0  \n",
       "2      ['Bodies start mysteriously disappearing from ...    218.0  \n",
       "3      [\"A married architect, stuck in a loveless mar...    356.0  \n",
       "4      ['Whoever of a group of eager bicycle racers f...     14.0  \n",
       "...                                                  ...      ...  \n",
       "33995  ['The viscount Galmiche de Quoibedec and his w...     22.0  \n",
       "33996  ['A group of men go to a villa in the French c...  13058.0  \n",
       "33997  ['Michel is a middle aged man with a troubled ...    377.0  \n",
       "33998                                                NaN     35.0  \n",
       "33999  ['The body of a young woman is discovered near...    953.0  \n",
       "\n",
       "[34000 rows x 16 columns]"
      ]
     },
     "execution_count": 12,
     "metadata": {},
     "output_type": "execute_result"
    }
   ],
   "source": [
    "data"
   ]
  },
  {
   "cell_type": "markdown",
   "metadata": {},
   "source": [
    "## Columns\n",
    "According to the definition in https://www.imdb.com/interfaces/ movies don't have an 'End Year', as that value is reserved for series. As such, this column has no use for me."
   ]
  },
  {
   "cell_type": "code",
   "execution_count": 13,
   "metadata": {},
   "outputs": [],
   "source": [
    "# data.endYear.value_counts()\n"
   ]
  },
  {
   "cell_type": "code",
   "execution_count": 14,
   "metadata": {},
   "outputs": [],
   "source": [
    "cols_to_drop = []\n",
    "cols_to_drop.append('endYear')"
   ]
  },
  {
   "cell_type": "markdown",
   "metadata": {},
   "source": [
    "The column ``titleType`` has only movie as values, because I already filtered anything else at the beggining."
   ]
  },
  {
   "cell_type": "code",
   "execution_count": 15,
   "metadata": {},
   "outputs": [],
   "source": [
    "cols_to_drop.append('titleType')"
   ]
  },
  {
   "cell_type": "markdown",
   "metadata": {},
   "source": [
    "The ``index`` column is here as a small mistake when merging the sources and can be dropped without issue. It happens 3 times, but they all will drop at the same time.\n",
    "The ``tconst`` column, even though it will serve no purpose at modeling because it is just the ID in IMDb, will be kept in case I need to expand information in the future."
   ]
  },
  {
   "cell_type": "code",
   "execution_count": 16,
   "metadata": {},
   "outputs": [],
   "source": [
    "cols_to_drop.append('index')"
   ]
  },
  {
   "cell_type": "markdown",
   "metadata": {},
   "source": [
    "I have two columns of genders, but the second one has the same information but in a better format, so I will delete the other."
   ]
  },
  {
   "cell_type": "code",
   "execution_count": 17,
   "metadata": {},
   "outputs": [],
   "source": [
    "# cols_to_drop.append('genres')\n"
   ]
  },
  {
   "cell_type": "markdown",
   "metadata": {},
   "source": [
    "There are also two columns for names and they won't affect much, but still I will keep the names in English from ''primaryTitle''."
   ]
  },
  {
   "cell_type": "code",
   "execution_count": 18,
   "metadata": {},
   "outputs": [],
   "source": [
    "cols_to_drop.append('originalTitle')"
   ]
  },
  {
   "cell_type": "markdown",
   "metadata": {},
   "source": [
    "Now it's time to drop some columns."
   ]
  },
  {
   "cell_type": "code",
   "execution_count": 19,
   "metadata": {},
   "outputs": [
    {
     "name": "stderr",
     "output_type": "stream",
     "text": [
      "C:\\Users\\carlo\\AppData\\Local\\Temp/ipykernel_22640/1662013735.py:1: FutureWarning: In a future version of pandas all arguments of DataFrame.drop except for the argument 'labels' will be keyword-only\n",
      "  data = data.drop(cols_to_drop, 1)\n"
     ]
    },
    {
     "data": {
      "text/html": [
       "<div>\n",
       "<style scoped>\n",
       "    .dataframe tbody tr th:only-of-type {\n",
       "        vertical-align: middle;\n",
       "    }\n",
       "\n",
       "    .dataframe tbody tr th {\n",
       "        vertical-align: top;\n",
       "    }\n",
       "\n",
       "    .dataframe thead th {\n",
       "        text-align: right;\n",
       "    }\n",
       "</style>\n",
       "<table border=\"1\" class=\"dataframe\">\n",
       "  <thead>\n",
       "    <tr style=\"text-align: right;\">\n",
       "      <th></th>\n",
       "      <th>tconst</th>\n",
       "      <th>primaryTitle</th>\n",
       "      <th>isAdult</th>\n",
       "      <th>startYear</th>\n",
       "      <th>runtimeMinutes</th>\n",
       "      <th>rating</th>\n",
       "      <th>genres.1</th>\n",
       "      <th>mpaa</th>\n",
       "      <th>description</th>\n",
       "      <th>votes</th>\n",
       "    </tr>\n",
       "  </thead>\n",
       "  <tbody>\n",
       "    <tr>\n",
       "      <th>0</th>\n",
       "      <td>tt0023526</td>\n",
       "      <td>Stranger in Town</td>\n",
       "      <td>0</td>\n",
       "      <td>1932</td>\n",
       "      <td>65</td>\n",
       "      <td>6.1</td>\n",
       "      <td>['drama']</td>\n",
       "      <td>TV-PG</td>\n",
       "      <td>[\"Ulysses Crickle owns a small town grocery st...</td>\n",
       "      <td>115.0</td>\n",
       "    </tr>\n",
       "  </tbody>\n",
       "</table>\n",
       "</div>"
      ],
      "text/plain": [
       "      tconst      primaryTitle  isAdult  startYear runtimeMinutes  rating  \\\n",
       "0  tt0023526  Stranger in Town        0       1932             65     6.1   \n",
       "\n",
       "    genres.1   mpaa                                        description  votes  \n",
       "0  ['drama']  TV-PG  [\"Ulysses Crickle owns a small town grocery st...  115.0  "
      ]
     },
     "execution_count": 19,
     "metadata": {},
     "output_type": "execute_result"
    }
   ],
   "source": [
    "data = data.drop(cols_to_drop, 1)\n",
    "data.head(1)"
   ]
  },
  {
   "cell_type": "markdown",
   "metadata": {},
   "source": [
    "## NaNs"
   ]
  },
  {
   "cell_type": "code",
   "execution_count": 20,
   "metadata": {},
   "outputs": [
    {
     "data": {
      "text/plain": [
       "tconst            0.000000\n",
       "primaryTitle      0.000000\n",
       "isAdult           0.000000\n",
       "startYear         0.000000\n",
       "runtimeMinutes    0.000000\n",
       "rating            0.104029\n",
       "genres.1          0.018882\n",
       "mpaa              0.531118\n",
       "description       0.177235\n",
       "votes             0.104029\n",
       "dtype: float64"
      ]
     },
     "execution_count": 20,
     "metadata": {},
     "output_type": "execute_result"
    }
   ],
   "source": [
    "data.isna().sum()/len(data)"
   ]
  },
  {
   "cell_type": "markdown",
   "metadata": {},
   "source": [
    "From this overview I can get some conclussions:  \n",
    "- The first columns are all populated because the come from an official database  \n",
    "- the last 2 columns appear as filled with errors due to a problem with the scraper, I will try to solve it later."
   ]
  },
  {
   "cell_type": "markdown",
   "metadata": {},
   "source": [
    "### ``rating``\n",
    "This column is going to be one of my targets, so I need to keep the actual data and remove the rest."
   ]
  },
  {
   "cell_type": "code",
   "execution_count": 21,
   "metadata": {},
   "outputs": [],
   "source": [
    "data = data.dropna(subset=['rating'])"
   ]
  },
  {
   "cell_type": "code",
   "execution_count": 22,
   "metadata": {},
   "outputs": [
    {
     "data": {
      "text/plain": [
       "tconst            0.000000\n",
       "primaryTitle      0.000000\n",
       "isAdult           0.000000\n",
       "startYear         0.000000\n",
       "runtimeMinutes    0.000000\n",
       "rating            0.000000\n",
       "genres.1          0.000000\n",
       "mpaa              0.485638\n",
       "description       0.116929\n",
       "votes             0.000000\n",
       "dtype: float64"
      ]
     },
     "execution_count": 22,
     "metadata": {},
     "output_type": "execute_result"
    }
   ],
   "source": [
    "data.isna().sum()/len(data)"
   ]
  },
  {
   "cell_type": "markdown",
   "metadata": {},
   "source": [
    "### ``mpaa``\n",
    "The age rating has a list of defined values: \n",
    "* **G – General Audiences**\n",
    "* **PG – Parental Guidance Suggested**\n",
    "* **PG-13 – Parents Strongly Cautioned**\n",
    "* **R – Restricted**\n",
    "* **NC-17 – Adults Only**\n"
   ]
  },
  {
   "cell_type": "code",
   "execution_count": 23,
   "metadata": {},
   "outputs": [
    {
     "data": {
      "text/plain": [
       "NaN          14794\n",
       "Approved      6161\n",
       "Passed        3655\n",
       "Not Rated     2588\n",
       "R              832\n",
       "PG             445\n",
       "TV-PG          426\n",
       "G              357\n",
       "Unrated        327\n",
       "GP             224\n",
       "TV-G           179\n",
       "X              130\n",
       "TV-14          102\n",
       "M               90\n",
       "M/PG            60\n",
       "PG-13           39\n",
       "TV-MA           33\n",
       "TV-Y7            7\n",
       "TV-Y7-FV         4\n",
       "NC-17            4\n",
       "Open             2\n",
       "TV-Y             2\n",
       "TV-13            2\n",
       "Name: mpaa, dtype: int64"
      ]
     },
     "execution_count": 23,
     "metadata": {},
     "output_type": "execute_result"
    }
   ],
   "source": [
    "data.mpaa.value_counts(dropna=False)"
   ]
  },
  {
   "cell_type": "markdown",
   "metadata": {},
   "source": [
    "\n",
    "For now, I will assign the empty values to the most common appearance, that is Not Rated.\n",
    "The rest of the changes will come later."
   ]
  },
  {
   "cell_type": "code",
   "execution_count": 24,
   "metadata": {},
   "outputs": [],
   "source": [
    "data.mpaa.fillna('Not Rated', inplace=True)\n",
    "# data.mpaa.value_counts(dropna=False)"
   ]
  },
  {
   "cell_type": "markdown",
   "metadata": {},
   "source": [
    "### ``description``\n",
    "As the most important column, I have no use for rows with no information in it, so I need to remove them."
   ]
  },
  {
   "cell_type": "code",
   "execution_count": 25,
   "metadata": {},
   "outputs": [],
   "source": [
    "data = data.dropna(subset=['description'])"
   ]
  },
  {
   "cell_type": "markdown",
   "metadata": {},
   "source": [
    "Lastly, the columns that come from Rotten Tomatoes have to be deleted, as I have lost access to the web."
   ]
  },
  {
   "cell_type": "code",
   "execution_count": 26,
   "metadata": {},
   "outputs": [
    {
     "name": "stderr",
     "output_type": "stream",
     "text": [
      "C:\\Users\\carlo\\AppData\\Local\\Temp/ipykernel_22640/3169075514.py:1: FutureWarning: In a future version of pandas all arguments of DataFrame.drop except for the argument 'labels' will be keyword-only\n",
      "  data = data.drop(['rt_critics_score', 'rt_audience_score'], 1)\n"
     ]
    },
    {
     "ename": "KeyError",
     "evalue": "\"['rt_critics_score' 'rt_audience_score'] not found in axis\"",
     "output_type": "error",
     "traceback": [
      "\u001b[1;31m---------------------------------------------------------------------------\u001b[0m",
      "\u001b[1;31mKeyError\u001b[0m                                  Traceback (most recent call last)",
      "\u001b[1;32m~\\AppData\\Local\\Temp/ipykernel_22640/3169075514.py\u001b[0m in \u001b[0;36m<module>\u001b[1;34m\u001b[0m\n\u001b[1;32m----> 1\u001b[1;33m \u001b[0mdata\u001b[0m \u001b[1;33m=\u001b[0m \u001b[0mdata\u001b[0m\u001b[1;33m.\u001b[0m\u001b[0mdrop\u001b[0m\u001b[1;33m(\u001b[0m\u001b[1;33m[\u001b[0m\u001b[1;34m'rt_critics_score'\u001b[0m\u001b[1;33m,\u001b[0m \u001b[1;34m'rt_audience_score'\u001b[0m\u001b[1;33m]\u001b[0m\u001b[1;33m,\u001b[0m \u001b[1;36m1\u001b[0m\u001b[1;33m)\u001b[0m\u001b[1;33m\u001b[0m\u001b[1;33m\u001b[0m\u001b[0m\n\u001b[0m\u001b[0;32m      2\u001b[0m \u001b[0mdata\u001b[0m\u001b[1;33m.\u001b[0m\u001b[0mhead\u001b[0m\u001b[1;33m(\u001b[0m\u001b[1;36m1\u001b[0m\u001b[1;33m)\u001b[0m\u001b[1;33m\u001b[0m\u001b[1;33m\u001b[0m\u001b[0m\n",
      "\u001b[1;32m~\\anaconda3\\lib\\site-packages\\pandas\\util\\_decorators.py\u001b[0m in \u001b[0;36mwrapper\u001b[1;34m(*args, **kwargs)\u001b[0m\n\u001b[0;32m    309\u001b[0m                     \u001b[0mstacklevel\u001b[0m\u001b[1;33m=\u001b[0m\u001b[0mstacklevel\u001b[0m\u001b[1;33m,\u001b[0m\u001b[1;33m\u001b[0m\u001b[1;33m\u001b[0m\u001b[0m\n\u001b[0;32m    310\u001b[0m                 )\n\u001b[1;32m--> 311\u001b[1;33m             \u001b[1;32mreturn\u001b[0m \u001b[0mfunc\u001b[0m\u001b[1;33m(\u001b[0m\u001b[1;33m*\u001b[0m\u001b[0margs\u001b[0m\u001b[1;33m,\u001b[0m \u001b[1;33m**\u001b[0m\u001b[0mkwargs\u001b[0m\u001b[1;33m)\u001b[0m\u001b[1;33m\u001b[0m\u001b[1;33m\u001b[0m\u001b[0m\n\u001b[0m\u001b[0;32m    312\u001b[0m \u001b[1;33m\u001b[0m\u001b[0m\n\u001b[0;32m    313\u001b[0m         \u001b[1;32mreturn\u001b[0m \u001b[0mwrapper\u001b[0m\u001b[1;33m\u001b[0m\u001b[1;33m\u001b[0m\u001b[0m\n",
      "\u001b[1;32m~\\anaconda3\\lib\\site-packages\\pandas\\core\\frame.py\u001b[0m in \u001b[0;36mdrop\u001b[1;34m(self, labels, axis, index, columns, level, inplace, errors)\u001b[0m\n\u001b[0;32m   4904\u001b[0m                 \u001b[0mweight\u001b[0m  \u001b[1;36m1.0\u001b[0m     \u001b[1;36m0.8\u001b[0m\u001b[1;33m\u001b[0m\u001b[1;33m\u001b[0m\u001b[0m\n\u001b[0;32m   4905\u001b[0m         \"\"\"\n\u001b[1;32m-> 4906\u001b[1;33m         return super().drop(\n\u001b[0m\u001b[0;32m   4907\u001b[0m             \u001b[0mlabels\u001b[0m\u001b[1;33m=\u001b[0m\u001b[0mlabels\u001b[0m\u001b[1;33m,\u001b[0m\u001b[1;33m\u001b[0m\u001b[1;33m\u001b[0m\u001b[0m\n\u001b[0;32m   4908\u001b[0m             \u001b[0maxis\u001b[0m\u001b[1;33m=\u001b[0m\u001b[0maxis\u001b[0m\u001b[1;33m,\u001b[0m\u001b[1;33m\u001b[0m\u001b[1;33m\u001b[0m\u001b[0m\n",
      "\u001b[1;32m~\\anaconda3\\lib\\site-packages\\pandas\\core\\generic.py\u001b[0m in \u001b[0;36mdrop\u001b[1;34m(self, labels, axis, index, columns, level, inplace, errors)\u001b[0m\n\u001b[0;32m   4148\u001b[0m         \u001b[1;32mfor\u001b[0m \u001b[0maxis\u001b[0m\u001b[1;33m,\u001b[0m \u001b[0mlabels\u001b[0m \u001b[1;32min\u001b[0m \u001b[0maxes\u001b[0m\u001b[1;33m.\u001b[0m\u001b[0mitems\u001b[0m\u001b[1;33m(\u001b[0m\u001b[1;33m)\u001b[0m\u001b[1;33m:\u001b[0m\u001b[1;33m\u001b[0m\u001b[1;33m\u001b[0m\u001b[0m\n\u001b[0;32m   4149\u001b[0m             \u001b[1;32mif\u001b[0m \u001b[0mlabels\u001b[0m \u001b[1;32mis\u001b[0m \u001b[1;32mnot\u001b[0m \u001b[1;32mNone\u001b[0m\u001b[1;33m:\u001b[0m\u001b[1;33m\u001b[0m\u001b[1;33m\u001b[0m\u001b[0m\n\u001b[1;32m-> 4150\u001b[1;33m                 \u001b[0mobj\u001b[0m \u001b[1;33m=\u001b[0m \u001b[0mobj\u001b[0m\u001b[1;33m.\u001b[0m\u001b[0m_drop_axis\u001b[0m\u001b[1;33m(\u001b[0m\u001b[0mlabels\u001b[0m\u001b[1;33m,\u001b[0m \u001b[0maxis\u001b[0m\u001b[1;33m,\u001b[0m \u001b[0mlevel\u001b[0m\u001b[1;33m=\u001b[0m\u001b[0mlevel\u001b[0m\u001b[1;33m,\u001b[0m \u001b[0merrors\u001b[0m\u001b[1;33m=\u001b[0m\u001b[0merrors\u001b[0m\u001b[1;33m)\u001b[0m\u001b[1;33m\u001b[0m\u001b[1;33m\u001b[0m\u001b[0m\n\u001b[0m\u001b[0;32m   4151\u001b[0m \u001b[1;33m\u001b[0m\u001b[0m\n\u001b[0;32m   4152\u001b[0m         \u001b[1;32mif\u001b[0m \u001b[0minplace\u001b[0m\u001b[1;33m:\u001b[0m\u001b[1;33m\u001b[0m\u001b[1;33m\u001b[0m\u001b[0m\n",
      "\u001b[1;32m~\\anaconda3\\lib\\site-packages\\pandas\\core\\generic.py\u001b[0m in \u001b[0;36m_drop_axis\u001b[1;34m(self, labels, axis, level, errors)\u001b[0m\n\u001b[0;32m   4183\u001b[0m                 \u001b[0mnew_axis\u001b[0m \u001b[1;33m=\u001b[0m \u001b[0maxis\u001b[0m\u001b[1;33m.\u001b[0m\u001b[0mdrop\u001b[0m\u001b[1;33m(\u001b[0m\u001b[0mlabels\u001b[0m\u001b[1;33m,\u001b[0m \u001b[0mlevel\u001b[0m\u001b[1;33m=\u001b[0m\u001b[0mlevel\u001b[0m\u001b[1;33m,\u001b[0m \u001b[0merrors\u001b[0m\u001b[1;33m=\u001b[0m\u001b[0merrors\u001b[0m\u001b[1;33m)\u001b[0m\u001b[1;33m\u001b[0m\u001b[1;33m\u001b[0m\u001b[0m\n\u001b[0;32m   4184\u001b[0m             \u001b[1;32melse\u001b[0m\u001b[1;33m:\u001b[0m\u001b[1;33m\u001b[0m\u001b[1;33m\u001b[0m\u001b[0m\n\u001b[1;32m-> 4185\u001b[1;33m                 \u001b[0mnew_axis\u001b[0m \u001b[1;33m=\u001b[0m \u001b[0maxis\u001b[0m\u001b[1;33m.\u001b[0m\u001b[0mdrop\u001b[0m\u001b[1;33m(\u001b[0m\u001b[0mlabels\u001b[0m\u001b[1;33m,\u001b[0m \u001b[0merrors\u001b[0m\u001b[1;33m=\u001b[0m\u001b[0merrors\u001b[0m\u001b[1;33m)\u001b[0m\u001b[1;33m\u001b[0m\u001b[1;33m\u001b[0m\u001b[0m\n\u001b[0m\u001b[0;32m   4186\u001b[0m             \u001b[0mresult\u001b[0m \u001b[1;33m=\u001b[0m \u001b[0mself\u001b[0m\u001b[1;33m.\u001b[0m\u001b[0mreindex\u001b[0m\u001b[1;33m(\u001b[0m\u001b[1;33m**\u001b[0m\u001b[1;33m{\u001b[0m\u001b[0maxis_name\u001b[0m\u001b[1;33m:\u001b[0m \u001b[0mnew_axis\u001b[0m\u001b[1;33m}\u001b[0m\u001b[1;33m)\u001b[0m\u001b[1;33m\u001b[0m\u001b[1;33m\u001b[0m\u001b[0m\n\u001b[0;32m   4187\u001b[0m \u001b[1;33m\u001b[0m\u001b[0m\n",
      "\u001b[1;32m~\\anaconda3\\lib\\site-packages\\pandas\\core\\indexes\\base.py\u001b[0m in \u001b[0;36mdrop\u001b[1;34m(self, labels, errors)\u001b[0m\n\u001b[0;32m   6015\u001b[0m         \u001b[1;32mif\u001b[0m \u001b[0mmask\u001b[0m\u001b[1;33m.\u001b[0m\u001b[0many\u001b[0m\u001b[1;33m(\u001b[0m\u001b[1;33m)\u001b[0m\u001b[1;33m:\u001b[0m\u001b[1;33m\u001b[0m\u001b[1;33m\u001b[0m\u001b[0m\n\u001b[0;32m   6016\u001b[0m             \u001b[1;32mif\u001b[0m \u001b[0merrors\u001b[0m \u001b[1;33m!=\u001b[0m \u001b[1;34m\"ignore\"\u001b[0m\u001b[1;33m:\u001b[0m\u001b[1;33m\u001b[0m\u001b[1;33m\u001b[0m\u001b[0m\n\u001b[1;32m-> 6017\u001b[1;33m                 \u001b[1;32mraise\u001b[0m \u001b[0mKeyError\u001b[0m\u001b[1;33m(\u001b[0m\u001b[1;34mf\"{labels[mask]} not found in axis\"\u001b[0m\u001b[1;33m)\u001b[0m\u001b[1;33m\u001b[0m\u001b[1;33m\u001b[0m\u001b[0m\n\u001b[0m\u001b[0;32m   6018\u001b[0m             \u001b[0mindexer\u001b[0m \u001b[1;33m=\u001b[0m \u001b[0mindexer\u001b[0m\u001b[1;33m[\u001b[0m\u001b[1;33m~\u001b[0m\u001b[0mmask\u001b[0m\u001b[1;33m]\u001b[0m\u001b[1;33m\u001b[0m\u001b[1;33m\u001b[0m\u001b[0m\n\u001b[0;32m   6019\u001b[0m         \u001b[1;32mreturn\u001b[0m \u001b[0mself\u001b[0m\u001b[1;33m.\u001b[0m\u001b[0mdelete\u001b[0m\u001b[1;33m(\u001b[0m\u001b[0mindexer\u001b[0m\u001b[1;33m)\u001b[0m\u001b[1;33m\u001b[0m\u001b[1;33m\u001b[0m\u001b[0m\n",
      "\u001b[1;31mKeyError\u001b[0m: \"['rt_critics_score' 'rt_audience_score'] not found in axis\""
     ]
    }
   ],
   "source": [
    "# data = data.drop(['rt_critics_score', 'rt_audience_score'], 1)\n",
    "# data.head(1)"
   ]
  },
  {
   "cell_type": "code",
   "execution_count": 27,
   "metadata": {},
   "outputs": [],
   "source": [
    "# data.to_csv('data\\movies_clean.csv', index=False)\n",
    "data.to_csv('data\\sample_clean.csv', index=False)"
   ]
  }
 ],
 "metadata": {
  "interpreter": {
   "hash": "5f23c331dcc0e959a18d97d72b32723b8e8fefc4a029dc171226f15b89161c30"
  },
  "kernelspec": {
   "display_name": "Python 3.9.7 ('base')",
   "language": "python",
   "name": "python3"
  },
  "language_info": {
   "codemirror_mode": {
    "name": "ipython",
    "version": 3
   },
   "file_extension": ".py",
   "mimetype": "text/x-python",
   "name": "python",
   "nbconvert_exporter": "python",
   "pygments_lexer": "ipython3",
   "version": "3.9.7"
  },
  "orig_nbformat": 4
 },
 "nbformat": 4,
 "nbformat_minor": 2
}
