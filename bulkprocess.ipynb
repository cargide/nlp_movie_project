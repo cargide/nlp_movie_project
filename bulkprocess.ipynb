{
 "cells": [
  {
   "cell_type": "code",
   "execution_count": 1,
   "metadata": {},
   "outputs": [],
   "source": [
    "import pandas as pd\n",
    "from imdb import Cinemagoer\n",
    "from rotten_tomatoes_scraper.rt_scraper import MovieScraper\n",
    "from tqdm.notebook import tqdm #progress bar"
   ]
  },
  {
   "cell_type": "code",
   "execution_count": 2,
   "metadata": {},
   "outputs": [],
   "source": [
    "# !pip install tqdm\n"
   ]
  },
  {
   "cell_type": "code",
   "execution_count": 3,
   "metadata": {},
   "outputs": [
    {
     "name": "stderr",
     "output_type": "stream",
     "text": [
      "C:\\Users\\carlo\\anaconda3\\lib\\site-packages\\IPython\\core\\interactiveshell.py:3444: DtypeWarning: Columns (4,5) have mixed types.Specify dtype option on import or set low_memory=False.\n",
      "  exec(code_obj, self.user_global_ns, self.user_ns)\n"
     ]
    }
   ],
   "source": [
    "#basics = pd.read_csv('data/data.tsv', sep='\\t')\n"
   ]
  },
  {
   "cell_type": "code",
   "execution_count": 4,
   "metadata": {},
   "outputs": [],
   "source": [
    "def get_IMDB_movie_data(movie_ID=''):\n",
    "    \"\"\"\n",
    "    Returns the following information of a title in a list form:\n",
    "        IMDB rating\n",
    "        genres\n",
    "        MPAA rating\n",
    "        Description\n",
    "        maybe later: movie_title='',\n",
    "    \"\"\"\n",
    "    ia = Cinemagoer()\n",
    "    if movie_ID=='':\n",
    "        raise Exception(\"No title or ID provided\")\n",
    "    \n",
    "    movie_ID = movie_ID.replace('t', '')\n",
    "    \n",
    "    try:\n",
    "        movie = ia.get_movie(movie_ID)\n",
    "    except:\n",
    "        return (pd.NA,pd.NA,pd.NA,pd.NA,pd.NA)\n",
    "\n",
    "    try:\n",
    "        rating = movie.data['rating']\n",
    "        # result['rating'] = movie.data['rating']\n",
    "    except:\n",
    "        rating = pd.NA\n",
    "        # result['rating'] = pd.NA\n",
    "\n",
    "    try:\n",
    "        # result['genres'] = 0\n",
    "        genres = [genre.lower() for genre in movie.data['genres']]\n",
    "    except:\n",
    "        # result['genres'] = pd.NA\n",
    "        genres = pd.NA\n",
    "\n",
    "    try:\n",
    "        # result['mpaa'] = [c.split(':')[1] for c in movie.data['certificates'] if (c.startswith('United States') or 'USA' in c)][0]\n",
    "        MPAA = [c.split(':')[1] for c in movie.data['certificates'] if (c.startswith('United States') or 'USA' in c)][0]\n",
    "    except:\n",
    "        # result['mpaa'] = pd.NA\n",
    "        MPAA = pd.NA\n",
    "\n",
    "    try:\n",
    "        # result['description'] = movie.data['plot outline']\n",
    "        description = movie.data['plot']\n",
    "    except:\n",
    "        # result['description'] = pd.NA\n",
    "        description = pd.NA\n",
    "\n",
    "    try:\n",
    "        # result['votes'] = movie.data['votes']\n",
    "        votes = movie.data['votes']\n",
    "    except:\n",
    "        # result['votes'] = pd.NA\n",
    "        votes = pd.NA\n",
    "\n",
    "    # print(result)\n",
    "    return (rating,genres,MPAA,description,votes)"
   ]
  },
  {
   "cell_type": "code",
   "execution_count": 5,
   "metadata": {},
   "outputs": [],
   "source": [
    "def get_RT_ratings(movie_title):\n",
    "    \"\"\"\n",
    "    Returns the Rotten Tomatoes critic score and audience score of a title\n",
    "    \"\"\"\n",
    "\n",
    "    # Extract URL\n",
    "    RT_search = MovieScraper()\n",
    "    try:\n",
    "        search_res = RT_search.search(movie_title)\n",
    "\n",
    "        # Exact match\n",
    "        url_list = [movie_dict['url'] for movie_dict in search_res['movies']\n",
    "                    if movie_dict['name'].lower() == movie_title.lower()]\n",
    "        if len(url_list) == 1:\n",
    "            url = url_list[0]\n",
    "        # No exact match -  return the latest one\n",
    "        elif not url_list:\n",
    "            url_list = sorted([(movie_dict['url'], movie_dict['year']) for movie_dict in search_res['movies']],\n",
    "                            key=lambda x: x[1], reverse=True)\n",
    "            try:\n",
    "                url = url_list[0][0]\n",
    "            except:\n",
    "                return pd.NA, pd.NA\n",
    "            # print(f'No exact match found. Going with {url}')\n",
    "        # More than one exact match - return the latest one\n",
    "        elif len(url_list) > 1:\n",
    "            url_list = sorted([(movie_dict['url'], movie_dict['year']) for movie_dict in search_res['movies']\n",
    "                            if movie_dict['name'].lower() == movie_title.lower()],\n",
    "                            key=lambda x: x[1], reverse=True)\n",
    "            url = url_list[0][0]\n",
    "            # print(f'More than one exact match found. Going with {url}')\n",
    "\n",
    "        movie_scraper = MovieScraper(movie_url='https://www.rottentomatoes.com' + url)\n",
    "        movie_scraper.extract_metadata()\n",
    "    except:\n",
    "        return pd.NA, pd.NA\n",
    "        \n",
    "    try:\n",
    "        rt_critics_score = int(movie_scraper.metadata['Score_Rotten'])\n",
    "    except:\n",
    "        rt_critics_score = pd.NA\n",
    "\n",
    "    try:\n",
    "        rt_audience_score = int(movie_scraper.metadata['Score_Audience'])\n",
    "    except:\n",
    "        rt_audience_score = pd.NA\n",
    "        \n",
    "    return rt_critics_score, rt_audience_score"
   ]
  },
  {
   "cell_type": "code",
   "execution_count": 6,
   "metadata": {},
   "outputs": [],
   "source": [
    "def merge_data(table):\n",
    "    # table = table.reset_index()\n",
    "    extra = table['tconst'].apply(get_IMDB_movie_data) #gets extra info from imdb\n",
    "    extra = pd.DataFrame(extra.to_list(), columns=['rating','genres','mpaa','description','votes'])\n",
    "\n",
    "    rotten = table['primaryTitle'].apply(get_RT_ratings) # gets more ratings from rotten tomatoes\n",
    "    rotten = pd.DataFrame(rotten.to_list(), columns=['rt_critics_score','rt_audience_score'])\n",
    "    table_big = pd.concat([table.reset_index(), extra.reset_index(), rotten.reset_index()], axis=1)\n",
    "\n",
    "    return table_big"
   ]
  },
  {
   "cell_type": "code",
   "execution_count": 7,
   "metadata": {},
   "outputs": [],
   "source": [
    "def merge_data_imdb(table):\n",
    "    # table = table.reset_index()\n",
    "    extra = table['tconst'].apply(get_IMDB_movie_data) #gets extra info from imdb\n",
    "    extra = pd.DataFrame(extra.to_list(), columns=['rating','genres','mpaa','description','votes'])\n",
    "\n",
    "    # rotten = table['primaryTitle'].apply(get_RT_ratings) # gets more ratings from rotten tomatoes\n",
    "    # rotten = pd.DataFrame(rotten.to_list(), columns=['rt_critics_score','rt_audience_score'])\n",
    "    table_big = pd.concat([table.reset_index(), extra.reset_index()], axis=1)\n",
    "\n",
    "    return table_big"
   ]
  },
  {
   "cell_type": "code",
   "execution_count": 8,
   "metadata": {},
   "outputs": [
    {
     "name": "stderr",
     "output_type": "stream",
     "text": [
      "C:\\Users\\carlo\\AppData\\Local\\Temp/ipykernel_3696/554721261.py:3: SettingWithCopyWarning: \n",
      "A value is trying to be set on a copy of a slice from a DataFrame.\n",
      "Try using .loc[row_indexer,col_indexer] = value instead\n",
      "\n",
      "See the caveats in the documentation: https://pandas.pydata.org/pandas-docs/stable/user_guide/indexing.html#returning-a-view-versus-a-copy\n",
      "  set_movies['startYear'] = set_movies['startYear'].replace('\\\\N',0).astype('int32')\n"
     ]
    }
   ],
   "source": [
    "basics_movies = basics.loc[basics['titleType'] == 'movie']\n",
    "set_movies = basics_movies.loc[(basics_movies['genres'] != '\\\\N')]\n",
    "set_movies['startYear'] = set_movies['startYear'].replace('\\\\N',0).astype('int32')\n",
    "set_movies = set_movies.loc[(set_movies['startYear'] >= 1930)]\n",
    "\n",
    "table = set_movies.copy()\n"
   ]
  },
  {
   "cell_type": "code",
   "execution_count": 9,
   "metadata": {},
   "outputs": [],
   "source": [
    "result = pd.read_csv('data/imdb_full.csv')\n",
    "result.rename(columns={'genres.1':'genres', 'index.1': 'index'}, inplace=True)\n",
    "\n",
    "start = len(result)\n",
    "# start\n",
    "\n",
    "table = table.iloc[start:, :]"
   ]
  },
  {
   "cell_type": "code",
   "execution_count": 11,
   "metadata": {},
   "outputs": [
    {
     "data": {
      "application/vnd.jupyter.widget-view+json": {
       "model_id": "2a679ed2e1124ecbb432669c7c9d5b6b",
       "version_major": 2,
       "version_minor": 0
      },
      "text/plain": [
       "  0%|          | 0/376918 [00:00<?, ?it/s]"
      ]
     },
     "metadata": {},
     "output_type": "display_data"
    }
   ],
   "source": [
    "# result = pd.DataFrame()\n",
    "i=0\n",
    "\n",
    "table = table.sample(frac=1).reset_index(drop=True)\n",
    "\n",
    "pbar = tqdm(total=len(table))\n",
    "while len(table) > 1000:\n",
    "\n",
    "# while i < 2:\n",
    "    set = table.head(1000)\n",
    "\n",
    "    set_big = merge_data_imdb(set)\n",
    "\n",
    "    result = pd.concat([result,set_big], ignore_index=True)\n",
    "\n",
    "    table = table.iloc[1000: , :]\n",
    "    i = i + 1\n",
    "    result.to_csv('data\\imdb_full.csv', index=False)\n",
    "    pbar.update(1000)\n",
    "pbar.close"
   ]
  }
 ],
 "metadata": {
  "interpreter": {
   "hash": "5f23c331dcc0e959a18d97d72b32723b8e8fefc4a029dc171226f15b89161c30"
  },
  "kernelspec": {
   "display_name": "Python 3.9.7 ('base')",
   "language": "python",
   "name": "python3"
  },
  "language_info": {
   "codemirror_mode": {
    "name": "ipython",
    "version": 3
   },
   "file_extension": ".py",
   "mimetype": "text/x-python",
   "name": "python",
   "nbconvert_exporter": "python",
   "pygments_lexer": "ipython3",
   "version": "3.9.7"
  },
  "orig_nbformat": 4
 },
 "nbformat": 4,
 "nbformat_minor": 2
}
