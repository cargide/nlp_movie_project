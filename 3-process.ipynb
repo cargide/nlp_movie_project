{
 "cells": [
  {
   "cell_type": "markdown",
   "metadata": {},
   "source": [
    "# 3 - Process\n",
    "After removing the empty values from the dataset, now I want to fix everything to use it on the next steps.\n",
    "To achieve it, I want to get the columns into their appropiate types:"
   ]
  },
  {
   "cell_type": "code",
   "execution_count": 103,
   "metadata": {},
   "outputs": [],
   "source": [
    "import pandas as pd\n",
    "import numpy as np\n"
   ]
  },
  {
   "cell_type": "code",
   "execution_count": 104,
   "metadata": {},
   "outputs": [],
   "source": [
    "# data = pd.read_csv('data\\movies_clean.csv')\n",
    "data = pd.read_csv('data\\sample_clean.csv')"
   ]
  },
  {
   "cell_type": "code",
   "execution_count": 105,
   "metadata": {},
   "outputs": [
    {
     "data": {
      "text/plain": [
       "tconst             object\n",
       "primaryTitle       object\n",
       "isAdult             int64\n",
       "startYear           int64\n",
       "runtimeMinutes     object\n",
       "rating            float64\n",
       "genres.1           object\n",
       "mpaa               object\n",
       "description        object\n",
       "votes             float64\n",
       "dtype: object"
      ]
     },
     "execution_count": 105,
     "metadata": {},
     "output_type": "execute_result"
    }
   ],
   "source": [
    "data.dtypes"
   ]
  },
  {
   "cell_type": "markdown",
   "metadata": {},
   "source": [
    "The first two columns won't be used for modelling, but I want to keep them as they have the name and id of each movie."
   ]
  },
  {
   "cell_type": "markdown",
   "metadata": {},
   "source": [
    "### ``isAdult``"
   ]
  },
  {
   "cell_type": "code",
   "execution_count": 106,
   "metadata": {},
   "outputs": [
    {
     "data": {
      "text/plain": [
       "0    39610\n",
       "1      177\n",
       "Name: isAdult, dtype: int64"
      ]
     },
     "execution_count": 106,
     "metadata": {},
     "output_type": "execute_result"
    }
   ],
   "source": [
    "data.isAdult.value_counts()"
   ]
  },
  {
   "cell_type": "code",
   "execution_count": 107,
   "metadata": {},
   "outputs": [
    {
     "data": {
      "text/html": [
       "<div>\n",
       "<style scoped>\n",
       "    .dataframe tbody tr th:only-of-type {\n",
       "        vertical-align: middle;\n",
       "    }\n",
       "\n",
       "    .dataframe tbody tr th {\n",
       "        vertical-align: top;\n",
       "    }\n",
       "\n",
       "    .dataframe thead th {\n",
       "        text-align: right;\n",
       "    }\n",
       "</style>\n",
       "<table border=\"1\" class=\"dataframe\">\n",
       "  <thead>\n",
       "    <tr style=\"text-align: right;\">\n",
       "      <th></th>\n",
       "      <th>tconst</th>\n",
       "      <th>primaryTitle</th>\n",
       "      <th>isAdult</th>\n",
       "      <th>startYear</th>\n",
       "      <th>runtimeMinutes</th>\n",
       "      <th>rating</th>\n",
       "      <th>genres.1</th>\n",
       "      <th>mpaa</th>\n",
       "      <th>description</th>\n",
       "      <th>votes</th>\n",
       "    </tr>\n",
       "  </thead>\n",
       "  <tbody>\n",
       "    <tr>\n",
       "      <th>22124</th>\n",
       "      <td>tt0061926</td>\n",
       "      <td>Lust Weekend</td>\n",
       "      <td>1</td>\n",
       "      <td>1967</td>\n",
       "      <td>70</td>\n",
       "      <td>4.6</td>\n",
       "      <td>['drama']</td>\n",
       "      <td>Not Rated</td>\n",
       "      <td>['David and Jane, a happily married couple, ar...</td>\n",
       "      <td>10.0</td>\n",
       "    </tr>\n",
       "    <tr>\n",
       "      <th>22412</th>\n",
       "      <td>tt0062417</td>\n",
       "      <td>Un épais manteau de sang</td>\n",
       "      <td>1</td>\n",
       "      <td>1968</td>\n",
       "      <td>88</td>\n",
       "      <td>6.6</td>\n",
       "      <td>['drama']</td>\n",
       "      <td>Not Rated</td>\n",
       "      <td>[\"Sorenson uses diamond robbery money to buy c...</td>\n",
       "      <td>14.0</td>\n",
       "    </tr>\n",
       "    <tr>\n",
       "      <th>22812</th>\n",
       "      <td>tt0063118</td>\n",
       "      <td>I Want You!</td>\n",
       "      <td>1</td>\n",
       "      <td>1969</td>\n",
       "      <td>59</td>\n",
       "      <td>5.4</td>\n",
       "      <td>['drama']</td>\n",
       "      <td>Not Rated</td>\n",
       "      <td>['Brothel madam blackmails her clients.']</td>\n",
       "      <td>13.0</td>\n",
       "    </tr>\n",
       "    <tr>\n",
       "      <th>22860</th>\n",
       "      <td>tt0063176</td>\n",
       "      <td>Karla</td>\n",
       "      <td>1</td>\n",
       "      <td>1969</td>\n",
       "      <td>80</td>\n",
       "      <td>5.3</td>\n",
       "      <td>['drama', 'adult']</td>\n",
       "      <td>Not Rated</td>\n",
       "      <td>['Jackie and Lorna share a house in Florida. J...</td>\n",
       "      <td>8.0</td>\n",
       "    </tr>\n",
       "    <tr>\n",
       "      <th>23132</th>\n",
       "      <td>tt0063631</td>\n",
       "      <td>Space Thing</td>\n",
       "      <td>1</td>\n",
       "      <td>1968</td>\n",
       "      <td>70</td>\n",
       "      <td>4.1</td>\n",
       "      <td>['comedy', 'sci-fi']</td>\n",
       "      <td>Unrated</td>\n",
       "      <td>['A man is in bed reading Sci-Fi mags, and his...</td>\n",
       "      <td>258.0</td>\n",
       "    </tr>\n",
       "  </tbody>\n",
       "</table>\n",
       "</div>"
      ],
      "text/plain": [
       "          tconst              primaryTitle  isAdult  startYear runtimeMinutes  \\\n",
       "22124  tt0061926              Lust Weekend        1       1967             70   \n",
       "22412  tt0062417  Un épais manteau de sang        1       1968             88   \n",
       "22812  tt0063118               I Want You!        1       1969             59   \n",
       "22860  tt0063176                     Karla        1       1969             80   \n",
       "23132  tt0063631               Space Thing        1       1968             70   \n",
       "\n",
       "       rating              genres.1       mpaa  \\\n",
       "22124     4.6             ['drama']  Not Rated   \n",
       "22412     6.6             ['drama']  Not Rated   \n",
       "22812     5.4             ['drama']  Not Rated   \n",
       "22860     5.3    ['drama', 'adult']  Not Rated   \n",
       "23132     4.1  ['comedy', 'sci-fi']    Unrated   \n",
       "\n",
       "                                             description  votes  \n",
       "22124  ['David and Jane, a happily married couple, ar...   10.0  \n",
       "22412  [\"Sorenson uses diamond robbery money to buy c...   14.0  \n",
       "22812          ['Brothel madam blackmails her clients.']   13.0  \n",
       "22860  ['Jackie and Lorna share a house in Florida. J...    8.0  \n",
       "23132  ['A man is in bed reading Sci-Fi mags, and his...  258.0  "
      ]
     },
     "execution_count": 107,
     "metadata": {},
     "output_type": "execute_result"
    }
   ],
   "source": [
    "data.loc[data.isAdult == 1].head()"
   ]
  },
  {
   "cell_type": "code",
   "execution_count": 108,
   "metadata": {},
   "outputs": [
    {
     "data": {
      "text/html": [
       "<div>\n",
       "<style scoped>\n",
       "    .dataframe tbody tr th:only-of-type {\n",
       "        vertical-align: middle;\n",
       "    }\n",
       "\n",
       "    .dataframe tbody tr th {\n",
       "        vertical-align: top;\n",
       "    }\n",
       "\n",
       "    .dataframe thead th {\n",
       "        text-align: right;\n",
       "    }\n",
       "</style>\n",
       "<table border=\"1\" class=\"dataframe\">\n",
       "  <thead>\n",
       "    <tr style=\"text-align: right;\">\n",
       "      <th></th>\n",
       "      <th>tconst</th>\n",
       "      <th>primaryTitle</th>\n",
       "      <th>isAdult</th>\n",
       "      <th>startYear</th>\n",
       "      <th>runtimeMinutes</th>\n",
       "      <th>rating</th>\n",
       "      <th>genres.1</th>\n",
       "      <th>mpaa</th>\n",
       "      <th>description</th>\n",
       "      <th>votes</th>\n",
       "    </tr>\n",
       "  </thead>\n",
       "  <tbody>\n",
       "    <tr>\n",
       "      <th>18666</th>\n",
       "      <td>tt0056166</td>\n",
       "      <td>Lash of Lust</td>\n",
       "      <td>0</td>\n",
       "      <td>1972</td>\n",
       "      <td>\\N</td>\n",
       "      <td>2.6</td>\n",
       "      <td>['western']</td>\n",
       "      <td>X</td>\n",
       "      <td>[\"The man who hears with his eyes and speaks w...</td>\n",
       "      <td>32.0</td>\n",
       "    </tr>\n",
       "    <tr>\n",
       "      <th>19971</th>\n",
       "      <td>tt0058264</td>\n",
       "      <td>Kiss Me Quick!</td>\n",
       "      <td>0</td>\n",
       "      <td>1964</td>\n",
       "      <td>70</td>\n",
       "      <td>4.9</td>\n",
       "      <td>['comedy', 'horror', 'sci-fi']</td>\n",
       "      <td>X</td>\n",
       "      <td>['Sterilox, asexual ambassador from a distant ...</td>\n",
       "      <td>352.0</td>\n",
       "    </tr>\n",
       "    <tr>\n",
       "      <th>21060</th>\n",
       "      <td>tt0060092</td>\n",
       "      <td>The Alley Tramp</td>\n",
       "      <td>0</td>\n",
       "      <td>1968</td>\n",
       "      <td>69</td>\n",
       "      <td>4.5</td>\n",
       "      <td>['drama']</td>\n",
       "      <td>X</td>\n",
       "      <td>[\"A teenage girl sets out on a sexual odyssey ...</td>\n",
       "      <td>282.0</td>\n",
       "    </tr>\n",
       "    <tr>\n",
       "      <th>21435</th>\n",
       "      <td>tt0060712</td>\n",
       "      <td>Mondo Topless</td>\n",
       "      <td>0</td>\n",
       "      <td>1966</td>\n",
       "      <td>60</td>\n",
       "      <td>4.8</td>\n",
       "      <td>['documentary']</td>\n",
       "      <td>X</td>\n",
       "      <td>['Completely topless. Completely uninhibited. ...</td>\n",
       "      <td>1206.0</td>\n",
       "    </tr>\n",
       "    <tr>\n",
       "      <th>21469</th>\n",
       "      <td>tt0060761</td>\n",
       "      <td>The Notorious Daughter of Fanny Hill</td>\n",
       "      <td>0</td>\n",
       "      <td>1966</td>\n",
       "      <td>74</td>\n",
       "      <td>3.5</td>\n",
       "      <td>['comedy', 'drama']</td>\n",
       "      <td>X</td>\n",
       "      <td>[\"Kissy Hill, the daughter of a notorious mada...</td>\n",
       "      <td>140.0</td>\n",
       "    </tr>\n",
       "    <tr>\n",
       "      <th>...</th>\n",
       "      <td>...</td>\n",
       "      <td>...</td>\n",
       "      <td>...</td>\n",
       "      <td>...</td>\n",
       "      <td>...</td>\n",
       "      <td>...</td>\n",
       "      <td>...</td>\n",
       "      <td>...</td>\n",
       "      <td>...</td>\n",
       "      <td>...</td>\n",
       "    </tr>\n",
       "    <tr>\n",
       "      <th>38874</th>\n",
       "      <td>tt0154344</td>\n",
       "      <td>Red Hot Shot</td>\n",
       "      <td>0</td>\n",
       "      <td>1970</td>\n",
       "      <td>104</td>\n",
       "      <td>5.7</td>\n",
       "      <td>['crime', 'thriller']</td>\n",
       "      <td>X</td>\n",
       "      <td>['Frank Berin (Michael Reardon) was removed fr...</td>\n",
       "      <td>139.0</td>\n",
       "    </tr>\n",
       "    <tr>\n",
       "      <th>39215</th>\n",
       "      <td>tt0197616</td>\n",
       "      <td>Las Vegas Girls</td>\n",
       "      <td>1</td>\n",
       "      <td>1983</td>\n",
       "      <td>81</td>\n",
       "      <td>4.2</td>\n",
       "      <td>['adult']</td>\n",
       "      <td>X</td>\n",
       "      <td>[\"Two detectives are hired to go to Las Vegas ...</td>\n",
       "      <td>19.0</td>\n",
       "    </tr>\n",
       "    <tr>\n",
       "      <th>39277</th>\n",
       "      <td>tt0196538</td>\n",
       "      <td>The Erotic Adventures of Lolita</td>\n",
       "      <td>1</td>\n",
       "      <td>1982</td>\n",
       "      <td>74</td>\n",
       "      <td>5.5</td>\n",
       "      <td>['adult', 'comedy', 'drama']</td>\n",
       "      <td>X</td>\n",
       "      <td>['Two best friends, young Lolita and slightly ...</td>\n",
       "      <td>221.0</td>\n",
       "    </tr>\n",
       "    <tr>\n",
       "      <th>39374</th>\n",
       "      <td>tt0276347</td>\n",
       "      <td>My Secretary, I Love....</td>\n",
       "      <td>1</td>\n",
       "      <td>1973</td>\n",
       "      <td>47</td>\n",
       "      <td>3.2</td>\n",
       "      <td>['adult', 'comedy']</td>\n",
       "      <td>X</td>\n",
       "      <td>['J.J. Sachs cheats on his wife with his secre...</td>\n",
       "      <td>10.0</td>\n",
       "    </tr>\n",
       "    <tr>\n",
       "      <th>39706</th>\n",
       "      <td>tt0123673</td>\n",
       "      <td>China Girl</td>\n",
       "      <td>1</td>\n",
       "      <td>1974</td>\n",
       "      <td>89</td>\n",
       "      <td>5.1</td>\n",
       "      <td>['adult', 'comedy', 'crime', 'drama', 'sci-fi'...</td>\n",
       "      <td>X</td>\n",
       "      <td>['International crime syndicate called the Dra...</td>\n",
       "      <td>144.0</td>\n",
       "    </tr>\n",
       "  </tbody>\n",
       "</table>\n",
       "<p>216 rows × 10 columns</p>\n",
       "</div>"
      ],
      "text/plain": [
       "          tconst                          primaryTitle  isAdult  startYear  \\\n",
       "18666  tt0056166                          Lash of Lust        0       1972   \n",
       "19971  tt0058264                        Kiss Me Quick!        0       1964   \n",
       "21060  tt0060092                       The Alley Tramp        0       1968   \n",
       "21435  tt0060712                         Mondo Topless        0       1966   \n",
       "21469  tt0060761  The Notorious Daughter of Fanny Hill        0       1966   \n",
       "...          ...                                   ...      ...        ...   \n",
       "38874  tt0154344                          Red Hot Shot        0       1970   \n",
       "39215  tt0197616                       Las Vegas Girls        1       1983   \n",
       "39277  tt0196538       The Erotic Adventures of Lolita        1       1982   \n",
       "39374  tt0276347              My Secretary, I Love....        1       1973   \n",
       "39706  tt0123673                            China Girl        1       1974   \n",
       "\n",
       "      runtimeMinutes  rating  \\\n",
       "18666             \\N     2.6   \n",
       "19971             70     4.9   \n",
       "21060             69     4.5   \n",
       "21435             60     4.8   \n",
       "21469             74     3.5   \n",
       "...              ...     ...   \n",
       "38874            104     5.7   \n",
       "39215             81     4.2   \n",
       "39277             74     5.5   \n",
       "39374             47     3.2   \n",
       "39706             89     5.1   \n",
       "\n",
       "                                                genres.1 mpaa  \\\n",
       "18666                                        ['western']    X   \n",
       "19971                     ['comedy', 'horror', 'sci-fi']    X   \n",
       "21060                                          ['drama']    X   \n",
       "21435                                    ['documentary']    X   \n",
       "21469                                ['comedy', 'drama']    X   \n",
       "...                                                  ...  ...   \n",
       "38874                              ['crime', 'thriller']    X   \n",
       "39215                                          ['adult']    X   \n",
       "39277                       ['adult', 'comedy', 'drama']    X   \n",
       "39374                                ['adult', 'comedy']    X   \n",
       "39706  ['adult', 'comedy', 'crime', 'drama', 'sci-fi'...    X   \n",
       "\n",
       "                                             description   votes  \n",
       "18666  [\"The man who hears with his eyes and speaks w...    32.0  \n",
       "19971  ['Sterilox, asexual ambassador from a distant ...   352.0  \n",
       "21060  [\"A teenage girl sets out on a sexual odyssey ...   282.0  \n",
       "21435  ['Completely topless. Completely uninhibited. ...  1206.0  \n",
       "21469  [\"Kissy Hill, the daughter of a notorious mada...   140.0  \n",
       "...                                                  ...     ...  \n",
       "38874  ['Frank Berin (Michael Reardon) was removed fr...   139.0  \n",
       "39215  [\"Two detectives are hired to go to Las Vegas ...    19.0  \n",
       "39277  ['Two best friends, young Lolita and slightly ...   221.0  \n",
       "39374  ['J.J. Sachs cheats on his wife with his secre...    10.0  \n",
       "39706  ['International crime syndicate called the Dra...   144.0  \n",
       "\n",
       "[216 rows x 10 columns]"
      ]
     },
     "execution_count": 108,
     "metadata": {},
     "output_type": "execute_result"
    }
   ],
   "source": [
    "data.loc[data['mpaa'] == 'X']"
   ]
  },
  {
   "cell_type": "markdown",
   "metadata": {},
   "source": [
    "In this sample, the flag for adult is very biased, which make sense, as that kind of movies don't come up often. Besides, this category should be already covered by the MPAA ratings on its own column.\n",
    "In the end, my decission is thtat this column is not needed."
   ]
  },
  {
   "cell_type": "code",
   "execution_count": 109,
   "metadata": {},
   "outputs": [],
   "source": [
    "cols_to_drop = []\n",
    "cols_to_drop.append('isAdult')"
   ]
  },
  {
   "cell_type": "markdown",
   "metadata": {},
   "source": [
    "### ``startYear``\n",
    "This column is ok, but I want to keep a copy apart for visualization purposes."
   ]
  },
  {
   "cell_type": "code",
   "execution_count": 110,
   "metadata": {},
   "outputs": [],
   "source": [
    "data['year_process'] = data.startYear"
   ]
  },
  {
   "cell_type": "markdown",
   "metadata": {},
   "source": [
    "### ``runtimeMinutes``"
   ]
  },
  {
   "cell_type": "code",
   "execution_count": 111,
   "metadata": {},
   "outputs": [
    {
     "data": {
      "text/plain": [
       "90     2055\n",
       "95     1282\n",
       "85     1140\n",
       "100    1085\n",
       "80     1057\n",
       "       ... \n",
       "239       1\n",
       "328       1\n",
       "218       1\n",
       "305       1\n",
       "222       1\n",
       "Name: runtimeMinutes, Length: 264, dtype: int64"
      ]
     },
     "execution_count": 111,
     "metadata": {},
     "output_type": "execute_result"
    }
   ],
   "source": [
    "data.runtimeMinutes.value_counts(dropna=False)"
   ]
  },
  {
   "cell_type": "markdown",
   "metadata": {},
   "source": [
    "In the original source, the empty values were marked as '\\N' instead of NaN. There are two consequences from this: they did not show up in the cleanup fase, and because of them, the solumn is considered as made of objects instead of only numbers.\n",
    "I could assign them the most common value, or the mean value. In this case, I am choosing the mean."
   ]
  },
  {
   "cell_type": "code",
   "execution_count": 112,
   "metadata": {},
   "outputs": [
    {
     "data": {
      "text/plain": [
       "91"
      ]
     },
     "execution_count": 112,
     "metadata": {},
     "output_type": "execute_result"
    }
   ],
   "source": [
    "mean = int(np.floor(data.loc[data['runtimeMinutes'] != '\\\\N']['runtimeMinutes'].astype('int32').mean()))\n",
    "mean"
   ]
  },
  {
   "cell_type": "code",
   "execution_count": 113,
   "metadata": {},
   "outputs": [
    {
     "data": {
      "text/plain": [
       "90     2055\n",
       "91     1881\n",
       "95     1282\n",
       "85     1140\n",
       "100    1085\n",
       "       ... \n",
       "239       1\n",
       "328       1\n",
       "218       1\n",
       "305       1\n",
       "222       1\n",
       "Name: runtimeMinutes, Length: 263, dtype: int64"
      ]
     },
     "execution_count": 113,
     "metadata": {},
     "output_type": "execute_result"
    }
   ],
   "source": [
    "data.runtimeMinutes = data.runtimeMinutes.replace('\\\\N', mean).astype('int32')\n",
    "data.runtimeMinutes.value_counts(dropna=False)"
   ]
  },
  {
   "cell_type": "code",
   "execution_count": 114,
   "metadata": {},
   "outputs": [
    {
     "data": {
      "text/plain": [
       "tconst             object\n",
       "primaryTitle       object\n",
       "isAdult             int64\n",
       "startYear           int64\n",
       "runtimeMinutes      int32\n",
       "rating            float64\n",
       "genres.1           object\n",
       "mpaa               object\n",
       "description        object\n",
       "votes             float64\n",
       "year_process        int64\n",
       "dtype: object"
      ]
     },
     "execution_count": 114,
     "metadata": {},
     "output_type": "execute_result"
    }
   ],
   "source": [
    "data.dtypes"
   ]
  },
  {
   "cell_type": "markdown",
   "metadata": {},
   "source": [
    "### ``genres.1``\n",
    "In here, the first thing I must do is change the name to remove that .1."
   ]
  },
  {
   "cell_type": "code",
   "execution_count": 115,
   "metadata": {},
   "outputs": [],
   "source": [
    "data.rename(columns={'genres.1':'genres'}, inplace=True)"
   ]
  },
  {
   "cell_type": "code",
   "execution_count": 116,
   "metadata": {},
   "outputs": [
    {
     "data": {
      "text/html": [
       "<div>\n",
       "<style scoped>\n",
       "    .dataframe tbody tr th:only-of-type {\n",
       "        vertical-align: middle;\n",
       "    }\n",
       "\n",
       "    .dataframe tbody tr th {\n",
       "        vertical-align: top;\n",
       "    }\n",
       "\n",
       "    .dataframe thead th {\n",
       "        text-align: right;\n",
       "    }\n",
       "</style>\n",
       "<table border=\"1\" class=\"dataframe\">\n",
       "  <thead>\n",
       "    <tr style=\"text-align: right;\">\n",
       "      <th></th>\n",
       "      <th>tconst</th>\n",
       "      <th>primaryTitle</th>\n",
       "      <th>isAdult</th>\n",
       "      <th>startYear</th>\n",
       "      <th>runtimeMinutes</th>\n",
       "      <th>rating</th>\n",
       "      <th>genres</th>\n",
       "      <th>mpaa</th>\n",
       "      <th>description</th>\n",
       "      <th>votes</th>\n",
       "      <th>year_process</th>\n",
       "    </tr>\n",
       "  </thead>\n",
       "  <tbody>\n",
       "    <tr>\n",
       "      <th>0</th>\n",
       "      <td>tt0023526</td>\n",
       "      <td>Stranger in Town</td>\n",
       "      <td>0</td>\n",
       "      <td>1932</td>\n",
       "      <td>65</td>\n",
       "      <td>6.1</td>\n",
       "      <td>['drama']</td>\n",
       "      <td>TV-PG</td>\n",
       "      <td>[\"Ulysses Crickle owns a small town grocery st...</td>\n",
       "      <td>115.0</td>\n",
       "      <td>1932</td>\n",
       "    </tr>\n",
       "  </tbody>\n",
       "</table>\n",
       "</div>"
      ],
      "text/plain": [
       "      tconst      primaryTitle  isAdult  startYear  runtimeMinutes  rating  \\\n",
       "0  tt0023526  Stranger in Town        0       1932              65     6.1   \n",
       "\n",
       "      genres   mpaa                                        description  votes  \\\n",
       "0  ['drama']  TV-PG  [\"Ulysses Crickle owns a small town grocery st...  115.0   \n",
       "\n",
       "   year_process  \n",
       "0          1932  "
      ]
     },
     "execution_count": 116,
     "metadata": {},
     "output_type": "execute_result"
    }
   ],
   "source": [
    "data.head(1)"
   ]
  },
  {
   "cell_type": "markdown",
   "metadata": {},
   "source": [
    "(use the functions in NLP to create the columns here)"
   ]
  },
  {
   "cell_type": "markdown",
   "metadata": {},
   "source": [
    "### ``mpaa``\n",
    "The age rating has a list of defined values: \n",
    "* **G – General Audiences**\n",
    "* **PG – Parental Guidance Suggested**\n",
    "* **PG-13 – Parents Strongly Cautioned**\n",
    "* **R – Restricted**\n",
    "* **NC-17 – Adults Only**  \n",
    "  \n",
    "I want to minimize the amount of unique values present in the column."
   ]
  },
  {
   "cell_type": "code",
   "execution_count": 117,
   "metadata": {},
   "outputs": [
    {
     "data": {
      "text/plain": [
       "Not Rated    24356\n",
       "Approved      6101\n",
       "Passed        3607\n",
       "R             1816\n",
       "PG             701\n",
       "TV-PG          537\n",
       "Unrated        528\n",
       "G              422\n",
       "PG-13          359\n",
       "TV-14          295\n",
       "GP             225\n",
       "TV-G           221\n",
       "X              216\n",
       "TV-MA          215\n",
       "M               92\n",
       "M/PG            60\n",
       "TV-Y7           13\n",
       "NC-17            9\n",
       "TV-Y7-FV         5\n",
       "TV-Y             4\n",
       "Open             2\n",
       "TV-13            2\n",
       "E                1\n",
       "Name: mpaa, dtype: int64"
      ]
     },
     "execution_count": 117,
     "metadata": {},
     "output_type": "execute_result"
    }
   ],
   "source": [
    "data.mpaa.value_counts(dropna=False)"
   ]
  },
  {
   "cell_type": "markdown",
   "metadata": {},
   "source": [
    "Not Rated and Unrated are going to be the same:"
   ]
  },
  {
   "cell_type": "code",
   "execution_count": 118,
   "metadata": {},
   "outputs": [],
   "source": [
    "data.mpaa = data.mpaa.replace('Unrated', 'Not Rated')"
   ]
  },
  {
   "cell_type": "markdown",
   "metadata": {},
   "source": [
    "Approved and Passed are going to be the same:"
   ]
  },
  {
   "cell_type": "code",
   "execution_count": 119,
   "metadata": {},
   "outputs": [],
   "source": [
    "data.mpaa = data.mpaa.replace('Passed', 'Approved')"
   ]
  },
  {
   "cell_type": "markdown",
   "metadata": {},
   "source": [
    "X, M, M/PG and TV-MA are going to be NC-17"
   ]
  },
  {
   "cell_type": "code",
   "execution_count": 120,
   "metadata": {},
   "outputs": [],
   "source": [
    "data.mpaa = data.mpaa.replace(dict.fromkeys(['X','M','M/PG','TV-MA'], 'NC-17'))"
   ]
  },
  {
   "cell_type": "markdown",
   "metadata": {},
   "source": [
    "TV-PG, GP, TV-Y7 and TV-Y7-FV are going to be PG"
   ]
  },
  {
   "cell_type": "code",
   "execution_count": 121,
   "metadata": {},
   "outputs": [],
   "source": [
    "data.mpaa = data.mpaa.replace(dict.fromkeys(['TV-PG','GP','TV-Y7','TV-Y7-FV'], 'PG'))"
   ]
  },
  {
   "cell_type": "markdown",
   "metadata": {},
   "source": [
    "TV-G, TV-Y, E and Open are going to be G"
   ]
  },
  {
   "cell_type": "code",
   "execution_count": 122,
   "metadata": {},
   "outputs": [],
   "source": [
    "data.mpaa = data.mpaa.replace(dict.fromkeys(['TV-G','TV-Y','Open', 'E'], 'G'))"
   ]
  },
  {
   "cell_type": "markdown",
   "metadata": {},
   "source": [
    "TV-14 and TV-13 are going to be PG-13"
   ]
  },
  {
   "cell_type": "code",
   "execution_count": 123,
   "metadata": {},
   "outputs": [],
   "source": [
    "data.mpaa = data.mpaa.replace(dict.fromkeys(['TV-14','TV-13'], 'PG-13'))"
   ]
  },
  {
   "cell_type": "code",
   "execution_count": 124,
   "metadata": {},
   "outputs": [
    {
     "data": {
      "text/plain": [
       "Not Rated    24884\n",
       "Approved      9708\n",
       "R             1816\n",
       "PG            1481\n",
       "PG-13          656\n",
       "G              650\n",
       "NC-17          592\n",
       "Name: mpaa, dtype: int64"
      ]
     },
     "execution_count": 124,
     "metadata": {},
     "output_type": "execute_result"
    }
   ],
   "source": [
    "data.mpaa.value_counts(dropna=False)"
   ]
  },
  {
   "cell_type": "code",
   "execution_count": 125,
   "metadata": {},
   "outputs": [
    {
     "data": {
      "text/plain": [
       "tconst             object\n",
       "primaryTitle       object\n",
       "isAdult             int64\n",
       "startYear           int64\n",
       "runtimeMinutes      int32\n",
       "rating            float64\n",
       "genres             object\n",
       "mpaa               object\n",
       "description        object\n",
       "votes             float64\n",
       "year_process        int64\n",
       "dtype: object"
      ]
     },
     "execution_count": 125,
     "metadata": {},
     "output_type": "execute_result"
    }
   ],
   "source": [
    "data.dtypes"
   ]
  },
  {
   "cell_type": "code",
   "execution_count": 126,
   "metadata": {},
   "outputs": [],
   "source": [
    "import matplotlib.pyplot as plt\n",
    "import seaborn as sns "
   ]
  },
  {
   "cell_type": "markdown",
   "metadata": {},
   "source": [
    "## Outliers\n",
    "I want to check if there are any outliers on the dataset:"
   ]
  },
  {
   "cell_type": "code",
   "execution_count": 127,
   "metadata": {},
   "outputs": [
    {
     "name": "stderr",
     "output_type": "stream",
     "text": [
      "C:\\Users\\carlo\\anaconda3\\lib\\site-packages\\seaborn\\_decorators.py:36: FutureWarning: Pass the following variable as a keyword arg: x. From version 0.12, the only valid positional argument will be `data`, and passing other arguments without an explicit keyword will result in an error or misinterpretation.\n",
      "  warnings.warn(\n"
     ]
    },
    {
     "data": {
      "text/plain": [
       "<AxesSubplot:xlabel='year_process'>"
      ]
     },
     "execution_count": 127,
     "metadata": {},
     "output_type": "execute_result"
    },
    {
     "data": {
      "image/png": "[encoded data removed]",
      "text/plain": [
       "<Figure size 432x288 with 1 Axes>"
      ]
     },
     "metadata": {
      "needs_background": "light"
     },
     "output_type": "display_data"
    }
   ],
   "source": [
    "sns.boxenplot(data.year_process)"
   ]
  },
  {
   "cell_type": "code",
   "execution_count": 128,
   "metadata": {},
   "outputs": [
    {
     "name": "stderr",
     "output_type": "stream",
     "text": [
      "C:\\Users\\carlo\\anaconda3\\lib\\site-packages\\seaborn\\_decorators.py:36: FutureWarning: Pass the following variable as a keyword arg: x. From version 0.12, the only valid positional argument will be `data`, and passing other arguments without an explicit keyword will result in an error or misinterpretation.\n",
      "  warnings.warn(\n"
     ]
    },
    {
     "data": {
      "text/plain": [
       "<AxesSubplot:xlabel='runtimeMinutes'>"
      ]
     },
     "execution_count": 128,
     "metadata": {},
     "output_type": "execute_result"
    },
    {
     "data": {
      "image/png": "[encoded data removed]",
      "text/plain": [
       "<Figure size 432x288 with 1 Axes>"
      ]
     },
     "metadata": {
      "needs_background": "light"
     },
     "output_type": "display_data"
    }
   ],
   "source": [
    "sns.boxenplot(data.runtimeMinutes)"
   ]
  },
  {
   "cell_type": "code",
   "execution_count": 129,
   "metadata": {},
   "outputs": [
    {
     "data": {
      "text/html": [
       "<div>\n",
       "<style scoped>\n",
       "    .dataframe tbody tr th:only-of-type {\n",
       "        vertical-align: middle;\n",
       "    }\n",
       "\n",
       "    .dataframe tbody tr th {\n",
       "        vertical-align: top;\n",
       "    }\n",
       "\n",
       "    .dataframe thead th {\n",
       "        text-align: right;\n",
       "    }\n",
       "</style>\n",
       "<table border=\"1\" class=\"dataframe\">\n",
       "  <thead>\n",
       "    <tr style=\"text-align: right;\">\n",
       "      <th></th>\n",
       "      <th>tconst</th>\n",
       "      <th>primaryTitle</th>\n",
       "      <th>isAdult</th>\n",
       "      <th>startYear</th>\n",
       "      <th>runtimeMinutes</th>\n",
       "      <th>rating</th>\n",
       "      <th>genres</th>\n",
       "      <th>mpaa</th>\n",
       "      <th>description</th>\n",
       "      <th>votes</th>\n",
       "      <th>year_process</th>\n",
       "    </tr>\n",
       "  </thead>\n",
       "  <tbody>\n",
       "    <tr>\n",
       "      <th>28771</th>\n",
       "      <td>tt2008009</td>\n",
       "      <td>The Clock</td>\n",
       "      <td>0</td>\n",
       "      <td>2010</td>\n",
       "      <td>1440</td>\n",
       "      <td>9.0</td>\n",
       "      <td>['drama']</td>\n",
       "      <td>PG</td>\n",
       "      <td>['Scenes from various films and TV programs th...</td>\n",
       "      <td>321.0</td>\n",
       "      <td>2010</td>\n",
       "    </tr>\n",
       "    <tr>\n",
       "      <th>38780</th>\n",
       "      <td>tt4842296</td>\n",
       "      <td>A Lullaby to the Sorrowful Mystery</td>\n",
       "      <td>0</td>\n",
       "      <td>2016</td>\n",
       "      <td>485</td>\n",
       "      <td>7.5</td>\n",
       "      <td>['adventure', 'drama', 'fantasy']</td>\n",
       "      <td>Not Rated</td>\n",
       "      <td>['The search for the body of Andres Bonifacio....</td>\n",
       "      <td>293.0</td>\n",
       "      <td>2016</td>\n",
       "    </tr>\n",
       "    <tr>\n",
       "      <th>23234</th>\n",
       "      <td>tt0063794</td>\n",
       "      <td>War and Peace</td>\n",
       "      <td>0</td>\n",
       "      <td>1965</td>\n",
       "      <td>422</td>\n",
       "      <td>8.3</td>\n",
       "      <td>['drama', 'history', 'romance', 'war']</td>\n",
       "      <td>PG</td>\n",
       "      <td>['The Russian aristocracy prepares for the Fre...</td>\n",
       "      <td>7091.0</td>\n",
       "      <td>1965</td>\n",
       "    </tr>\n",
       "    <tr>\n",
       "      <th>29473</th>\n",
       "      <td>tt3106498</td>\n",
       "      <td>Earth at Risk: Building a Resistance Movement ...</td>\n",
       "      <td>0</td>\n",
       "      <td>2011</td>\n",
       "      <td>416</td>\n",
       "      <td>7.9</td>\n",
       "      <td>['documentary']</td>\n",
       "      <td>Not Rated</td>\n",
       "      <td>['Earth at Risk is an annual conference featur...</td>\n",
       "      <td>13.0</td>\n",
       "      <td>2011</td>\n",
       "    </tr>\n",
       "    <tr>\n",
       "      <th>32983</th>\n",
       "      <td>tt8232682</td>\n",
       "      <td>Freddie Mercury: Lover of Life, Singer of Songs</td>\n",
       "      <td>0</td>\n",
       "      <td>2006</td>\n",
       "      <td>360</td>\n",
       "      <td>8.2</td>\n",
       "      <td>['documentary', 'music']</td>\n",
       "      <td>Not Rated</td>\n",
       "      <td>[\"Features 'The Untold Story' Documentary and ...</td>\n",
       "      <td>28.0</td>\n",
       "      <td>2006</td>\n",
       "    </tr>\n",
       "  </tbody>\n",
       "</table>\n",
       "</div>"
      ],
      "text/plain": [
       "          tconst                                       primaryTitle  isAdult  \\\n",
       "28771  tt2008009                                          The Clock        0   \n",
       "38780  tt4842296                 A Lullaby to the Sorrowful Mystery        0   \n",
       "23234  tt0063794                                      War and Peace        0   \n",
       "29473  tt3106498  Earth at Risk: Building a Resistance Movement ...        0   \n",
       "32983  tt8232682    Freddie Mercury: Lover of Life, Singer of Songs        0   \n",
       "\n",
       "       startYear  runtimeMinutes  rating  \\\n",
       "28771       2010            1440     9.0   \n",
       "38780       2016             485     7.5   \n",
       "23234       1965             422     8.3   \n",
       "29473       2011             416     7.9   \n",
       "32983       2006             360     8.2   \n",
       "\n",
       "                                       genres       mpaa  \\\n",
       "28771                               ['drama']         PG   \n",
       "38780       ['adventure', 'drama', 'fantasy']  Not Rated   \n",
       "23234  ['drama', 'history', 'romance', 'war']         PG   \n",
       "29473                         ['documentary']  Not Rated   \n",
       "32983                ['documentary', 'music']  Not Rated   \n",
       "\n",
       "                                             description   votes  year_process  \n",
       "28771  ['Scenes from various films and TV programs th...   321.0          2010  \n",
       "38780  ['The search for the body of Andres Bonifacio....   293.0          2016  \n",
       "23234  ['The Russian aristocracy prepares for the Fre...  7091.0          1965  \n",
       "29473  ['Earth at Risk is an annual conference featur...    13.0          2011  \n",
       "32983  [\"Features 'The Untold Story' Documentary and ...    28.0          2006  "
      ]
     },
     "execution_count": 129,
     "metadata": {},
     "output_type": "execute_result"
    }
   ],
   "source": [
    "data.sort_values(by='runtimeMinutes', ascending=False).head(5)"
   ]
  },
  {
   "cell_type": "markdown",
   "metadata": {},
   "source": [
    "There is a clear outlier here even though it is not a mistake. But still, I should remove it just to improve accuracy."
   ]
  },
  {
   "cell_type": "code",
   "execution_count": 130,
   "metadata": {},
   "outputs": [],
   "source": [
    "data = data.drop(data['runtimeMinutes'].idxmax())"
   ]
  },
  {
   "cell_type": "code",
   "execution_count": 131,
   "metadata": {},
   "outputs": [
    {
     "data": {
      "text/html": [
       "<div>\n",
       "<style scoped>\n",
       "    .dataframe tbody tr th:only-of-type {\n",
       "        vertical-align: middle;\n",
       "    }\n",
       "\n",
       "    .dataframe tbody tr th {\n",
       "        vertical-align: top;\n",
       "    }\n",
       "\n",
       "    .dataframe thead th {\n",
       "        text-align: right;\n",
       "    }\n",
       "</style>\n",
       "<table border=\"1\" class=\"dataframe\">\n",
       "  <thead>\n",
       "    <tr style=\"text-align: right;\">\n",
       "      <th></th>\n",
       "      <th>tconst</th>\n",
       "      <th>primaryTitle</th>\n",
       "      <th>isAdult</th>\n",
       "      <th>startYear</th>\n",
       "      <th>runtimeMinutes</th>\n",
       "      <th>rating</th>\n",
       "      <th>genres</th>\n",
       "      <th>mpaa</th>\n",
       "      <th>description</th>\n",
       "      <th>votes</th>\n",
       "      <th>year_process</th>\n",
       "    </tr>\n",
       "  </thead>\n",
       "  <tbody>\n",
       "    <tr>\n",
       "      <th>38780</th>\n",
       "      <td>tt4842296</td>\n",
       "      <td>A Lullaby to the Sorrowful Mystery</td>\n",
       "      <td>0</td>\n",
       "      <td>2016</td>\n",
       "      <td>485</td>\n",
       "      <td>7.5</td>\n",
       "      <td>['adventure', 'drama', 'fantasy']</td>\n",
       "      <td>Not Rated</td>\n",
       "      <td>['The search for the body of Andres Bonifacio....</td>\n",
       "      <td>293.0</td>\n",
       "      <td>2016</td>\n",
       "    </tr>\n",
       "  </tbody>\n",
       "</table>\n",
       "</div>"
      ],
      "text/plain": [
       "          tconst                        primaryTitle  isAdult  startYear  \\\n",
       "38780  tt4842296  A Lullaby to the Sorrowful Mystery        0       2016   \n",
       "\n",
       "       runtimeMinutes  rating                             genres       mpaa  \\\n",
       "38780             485     7.5  ['adventure', 'drama', 'fantasy']  Not Rated   \n",
       "\n",
       "                                             description  votes  year_process  \n",
       "38780  ['The search for the body of Andres Bonifacio....  293.0          2016  "
      ]
     },
     "execution_count": 131,
     "metadata": {},
     "output_type": "execute_result"
    }
   ],
   "source": [
    "data.sort_values(by='runtimeMinutes', ascending=False).head(1)"
   ]
  },
  {
   "cell_type": "code",
   "execution_count": 132,
   "metadata": {},
   "outputs": [
    {
     "name": "stderr",
     "output_type": "stream",
     "text": [
      "C:\\Users\\carlo\\anaconda3\\lib\\site-packages\\seaborn\\_decorators.py:36: FutureWarning: Pass the following variable as a keyword arg: x. From version 0.12, the only valid positional argument will be `data`, and passing other arguments without an explicit keyword will result in an error or misinterpretation.\n",
      "  warnings.warn(\n"
     ]
    },
    {
     "data": {
      "text/plain": [
       "<AxesSubplot:xlabel='rating'>"
      ]
     },
     "execution_count": 132,
     "metadata": {},
     "output_type": "execute_result"
    },
    {
     "data": {
      "image/png": "[encoded data removed]",
      "text/plain": [
       "<Figure size 432x288 with 1 Axes>"
      ]
     },
     "metadata": {
      "needs_background": "light"
     },
     "output_type": "display_data"
    }
   ],
   "source": [
    "sns.boxenplot(data.rating)"
   ]
  },
  {
   "cell_type": "markdown",
   "metadata": {},
   "source": [
    "Honestly, I think the rest of the outliers fit in what was expected from the dataset, so I will not treat them."
   ]
  },
  {
   "cell_type": "code",
   "execution_count": 133,
   "metadata": {},
   "outputs": [],
   "source": [
    "data.to_csv('data\\imdb_processed.csv', index=False)"
   ]
  },
  {
   "cell_type": "markdown",
   "metadata": {},
   "source": []
  },
  {
   "cell_type": "code",
   "execution_count": 134,
   "metadata": {},
   "outputs": [],
   "source": [
    "# non_model_info = data[['tconst', 'primaryTitle', 'startYear']]\n",
    "# non_model_info.head(1)"
   ]
  },
  {
   "cell_type": "code",
   "execution_count": 135,
   "metadata": {},
   "outputs": [],
   "source": [
    "# data = data.drop(['tconst', 'primaryTitle', 'startYear'], axis=1)\n",
    "# data.head(1)"
   ]
  },
  {
   "cell_type": "markdown",
   "metadata": {},
   "source": [
    "I also want to keep the target separated:"
   ]
  },
  {
   "cell_type": "code",
   "execution_count": 136,
   "metadata": {},
   "outputs": [],
   "source": [
    "# target = data['rating']\n"
   ]
  },
  {
   "cell_type": "markdown",
   "metadata": {},
   "source": [
    "In order to improve accuracy in the future model, I want to normalize the numerical data, and encode the categorical data.\n",
    "Also, I have two columns that I want to treat differently."
   ]
  },
  {
   "cell_type": "code",
   "execution_count": 137,
   "metadata": {},
   "outputs": [],
   "source": [
    "numerical = data.select_dtypes(np.number)\n",
    "text = data[['genres', 'description']]\n",
    "categorical = data['mpaa']"
   ]
  }
 ],
 "metadata": {
  "interpreter": {
   "hash": "5f23c331dcc0e959a18d97d72b32723b8e8fefc4a029dc171226f15b89161c30"
  },
  "kernelspec": {
   "display_name": "Python 3.9.7 ('base')",
   "language": "python",
   "name": "python3"
  },
  "language_info": {
   "codemirror_mode": {
    "name": "ipython",
    "version": 3
   },
   "file_extension": ".py",
   "mimetype": "text/x-python",
   "name": "python",
   "nbconvert_exporter": "python",
   "pygments_lexer": "ipython3",
   "version": "3.9.7"
  },
  "orig_nbformat": 4
 },
 "nbformat": 4,
 "nbformat_minor": 2
}
