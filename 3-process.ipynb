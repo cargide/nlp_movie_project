{
 "cells": [
  {
   "cell_type": "markdown",
   "metadata": {},
   "source": [
    "# 3 - Process\n",
    "After removing the empty values from the dataset, now I want to fix everything to use it on the next steps.\n",
    "To achieve it, I want to get the columns into their appropiate types:"
   ]
  },
  {
   "cell_type": "code",
   "execution_count": 36,
   "metadata": {},
   "outputs": [],
   "source": [
    "import pandas as pd\n",
    "import numpy as np\n"
   ]
  },
  {
   "cell_type": "code",
   "execution_count": 37,
   "metadata": {},
   "outputs": [],
   "source": [
    "# data = pd.read_csv('data\\movies_clean.csv')\n",
    "data = pd.read_csv('data\\sample_clean.csv')"
   ]
  },
  {
   "cell_type": "code",
   "execution_count": 38,
   "metadata": {},
   "outputs": [
    {
     "data": {
      "text/plain": [
       "tconst             object\n",
       "primaryTitle       object\n",
       "isAdult             int64\n",
       "startYear           int64\n",
       "runtimeMinutes     object\n",
       "rating            float64\n",
       "genres.1           object\n",
       "mpaa               object\n",
       "description        object\n",
       "votes             float64\n",
       "dtype: object"
      ]
     },
     "execution_count": 38,
     "metadata": {},
     "output_type": "execute_result"
    }
   ],
   "source": [
    "data.dtypes"
   ]
  },
  {
   "cell_type": "markdown",
   "metadata": {},
   "source": [
    "The first two columns won't be used for modelling, but I want to keep them as they have the name and id of each movie."
   ]
  },
  {
   "cell_type": "markdown",
   "metadata": {},
   "source": [
    "### ``isAdult``"
   ]
  },
  {
   "cell_type": "code",
   "execution_count": 39,
   "metadata": {},
   "outputs": [
    {
     "data": {
      "text/plain": [
       "0    26867\n",
       "1       34\n",
       "Name: isAdult, dtype: int64"
      ]
     },
     "execution_count": 39,
     "metadata": {},
     "output_type": "execute_result"
    }
   ],
   "source": [
    "data.isAdult.value_counts()"
   ]
  },
  {
   "cell_type": "code",
   "execution_count": 40,
   "metadata": {},
   "outputs": [
    {
     "data": {
      "text/html": [
       "<div>\n",
       "<style scoped>\n",
       "    .dataframe tbody tr th:only-of-type {\n",
       "        vertical-align: middle;\n",
       "    }\n",
       "\n",
       "    .dataframe tbody tr th {\n",
       "        vertical-align: top;\n",
       "    }\n",
       "\n",
       "    .dataframe thead th {\n",
       "        text-align: right;\n",
       "    }\n",
       "</style>\n",
       "<table border=\"1\" class=\"dataframe\">\n",
       "  <thead>\n",
       "    <tr style=\"text-align: right;\">\n",
       "      <th></th>\n",
       "      <th>tconst</th>\n",
       "      <th>primaryTitle</th>\n",
       "      <th>isAdult</th>\n",
       "      <th>startYear</th>\n",
       "      <th>runtimeMinutes</th>\n",
       "      <th>rating</th>\n",
       "      <th>genres.1</th>\n",
       "      <th>mpaa</th>\n",
       "      <th>description</th>\n",
       "      <th>votes</th>\n",
       "    </tr>\n",
       "  </thead>\n",
       "  <tbody>\n",
       "    <tr>\n",
       "      <th>22124</th>\n",
       "      <td>tt0061926</td>\n",
       "      <td>Lust Weekend</td>\n",
       "      <td>1</td>\n",
       "      <td>1967</td>\n",
       "      <td>70</td>\n",
       "      <td>4.6</td>\n",
       "      <td>['drama']</td>\n",
       "      <td>Not Rated</td>\n",
       "      <td>['David and Jane, a happily married couple, ar...</td>\n",
       "      <td>10.0</td>\n",
       "    </tr>\n",
       "    <tr>\n",
       "      <th>22412</th>\n",
       "      <td>tt0062417</td>\n",
       "      <td>Un épais manteau de sang</td>\n",
       "      <td>1</td>\n",
       "      <td>1968</td>\n",
       "      <td>88</td>\n",
       "      <td>6.6</td>\n",
       "      <td>['drama']</td>\n",
       "      <td>Not Rated</td>\n",
       "      <td>[\"Sorenson uses diamond robbery money to buy c...</td>\n",
       "      <td>14.0</td>\n",
       "    </tr>\n",
       "    <tr>\n",
       "      <th>22812</th>\n",
       "      <td>tt0063118</td>\n",
       "      <td>I Want You!</td>\n",
       "      <td>1</td>\n",
       "      <td>1969</td>\n",
       "      <td>59</td>\n",
       "      <td>5.4</td>\n",
       "      <td>['drama']</td>\n",
       "      <td>Not Rated</td>\n",
       "      <td>['Brothel madam blackmails her clients.']</td>\n",
       "      <td>13.0</td>\n",
       "    </tr>\n",
       "    <tr>\n",
       "      <th>22860</th>\n",
       "      <td>tt0063176</td>\n",
       "      <td>Karla</td>\n",
       "      <td>1</td>\n",
       "      <td>1969</td>\n",
       "      <td>80</td>\n",
       "      <td>5.3</td>\n",
       "      <td>['drama', 'adult']</td>\n",
       "      <td>Not Rated</td>\n",
       "      <td>['Jackie and Lorna share a house in Florida. J...</td>\n",
       "      <td>8.0</td>\n",
       "    </tr>\n",
       "    <tr>\n",
       "      <th>23132</th>\n",
       "      <td>tt0063631</td>\n",
       "      <td>Space Thing</td>\n",
       "      <td>1</td>\n",
       "      <td>1968</td>\n",
       "      <td>70</td>\n",
       "      <td>4.1</td>\n",
       "      <td>['comedy', 'sci-fi']</td>\n",
       "      <td>Unrated</td>\n",
       "      <td>['A man is in bed reading Sci-Fi mags, and his...</td>\n",
       "      <td>258.0</td>\n",
       "    </tr>\n",
       "  </tbody>\n",
       "</table>\n",
       "</div>"
      ],
      "text/plain": [
       "          tconst              primaryTitle  isAdult  startYear runtimeMinutes  \\\n",
       "22124  tt0061926              Lust Weekend        1       1967             70   \n",
       "22412  tt0062417  Un épais manteau de sang        1       1968             88   \n",
       "22812  tt0063118               I Want You!        1       1969             59   \n",
       "22860  tt0063176                     Karla        1       1969             80   \n",
       "23132  tt0063631               Space Thing        1       1968             70   \n",
       "\n",
       "       rating              genres.1       mpaa  \\\n",
       "22124     4.6             ['drama']  Not Rated   \n",
       "22412     6.6             ['drama']  Not Rated   \n",
       "22812     5.4             ['drama']  Not Rated   \n",
       "22860     5.3    ['drama', 'adult']  Not Rated   \n",
       "23132     4.1  ['comedy', 'sci-fi']    Unrated   \n",
       "\n",
       "                                             description  votes  \n",
       "22124  ['David and Jane, a happily married couple, ar...   10.0  \n",
       "22412  [\"Sorenson uses diamond robbery money to buy c...   14.0  \n",
       "22812          ['Brothel madam blackmails her clients.']   13.0  \n",
       "22860  ['Jackie and Lorna share a house in Florida. J...    8.0  \n",
       "23132  ['A man is in bed reading Sci-Fi mags, and his...  258.0  "
      ]
     },
     "execution_count": 40,
     "metadata": {},
     "output_type": "execute_result"
    }
   ],
   "source": [
    "data.loc[data.isAdult == 1].head()"
   ]
  },
  {
   "cell_type": "code",
   "execution_count": 41,
   "metadata": {},
   "outputs": [
    {
     "data": {
      "text/html": [
       "<div>\n",
       "<style scoped>\n",
       "    .dataframe tbody tr th:only-of-type {\n",
       "        vertical-align: middle;\n",
       "    }\n",
       "\n",
       "    .dataframe tbody tr th {\n",
       "        vertical-align: top;\n",
       "    }\n",
       "\n",
       "    .dataframe thead th {\n",
       "        text-align: right;\n",
       "    }\n",
       "</style>\n",
       "<table border=\"1\" class=\"dataframe\">\n",
       "  <thead>\n",
       "    <tr style=\"text-align: right;\">\n",
       "      <th></th>\n",
       "      <th>tconst</th>\n",
       "      <th>primaryTitle</th>\n",
       "      <th>isAdult</th>\n",
       "      <th>startYear</th>\n",
       "      <th>runtimeMinutes</th>\n",
       "      <th>rating</th>\n",
       "      <th>genres.1</th>\n",
       "      <th>mpaa</th>\n",
       "      <th>description</th>\n",
       "      <th>votes</th>\n",
       "    </tr>\n",
       "  </thead>\n",
       "  <tbody>\n",
       "    <tr>\n",
       "      <th>18666</th>\n",
       "      <td>tt0056166</td>\n",
       "      <td>Lash of Lust</td>\n",
       "      <td>0</td>\n",
       "      <td>1972</td>\n",
       "      <td>\\N</td>\n",
       "      <td>2.6</td>\n",
       "      <td>['western']</td>\n",
       "      <td>X</td>\n",
       "      <td>[\"The man who hears with his eyes and speaks w...</td>\n",
       "      <td>32.0</td>\n",
       "    </tr>\n",
       "    <tr>\n",
       "      <th>19971</th>\n",
       "      <td>tt0058264</td>\n",
       "      <td>Kiss Me Quick!</td>\n",
       "      <td>0</td>\n",
       "      <td>1964</td>\n",
       "      <td>70</td>\n",
       "      <td>4.9</td>\n",
       "      <td>['comedy', 'horror', 'sci-fi']</td>\n",
       "      <td>X</td>\n",
       "      <td>['Sterilox, asexual ambassador from a distant ...</td>\n",
       "      <td>352.0</td>\n",
       "    </tr>\n",
       "    <tr>\n",
       "      <th>21060</th>\n",
       "      <td>tt0060092</td>\n",
       "      <td>The Alley Tramp</td>\n",
       "      <td>0</td>\n",
       "      <td>1968</td>\n",
       "      <td>69</td>\n",
       "      <td>4.5</td>\n",
       "      <td>['drama']</td>\n",
       "      <td>X</td>\n",
       "      <td>[\"A teenage girl sets out on a sexual odyssey ...</td>\n",
       "      <td>282.0</td>\n",
       "    </tr>\n",
       "    <tr>\n",
       "      <th>21435</th>\n",
       "      <td>tt0060712</td>\n",
       "      <td>Mondo Topless</td>\n",
       "      <td>0</td>\n",
       "      <td>1966</td>\n",
       "      <td>60</td>\n",
       "      <td>4.8</td>\n",
       "      <td>['documentary']</td>\n",
       "      <td>X</td>\n",
       "      <td>['Completely topless. Completely uninhibited. ...</td>\n",
       "      <td>1206.0</td>\n",
       "    </tr>\n",
       "    <tr>\n",
       "      <th>21469</th>\n",
       "      <td>tt0060761</td>\n",
       "      <td>The Notorious Daughter of Fanny Hill</td>\n",
       "      <td>0</td>\n",
       "      <td>1966</td>\n",
       "      <td>74</td>\n",
       "      <td>3.5</td>\n",
       "      <td>['comedy', 'drama']</td>\n",
       "      <td>X</td>\n",
       "      <td>[\"Kissy Hill, the daughter of a notorious mada...</td>\n",
       "      <td>140.0</td>\n",
       "    </tr>\n",
       "    <tr>\n",
       "      <th>...</th>\n",
       "      <td>...</td>\n",
       "      <td>...</td>\n",
       "      <td>...</td>\n",
       "      <td>...</td>\n",
       "      <td>...</td>\n",
       "      <td>...</td>\n",
       "      <td>...</td>\n",
       "      <td>...</td>\n",
       "      <td>...</td>\n",
       "      <td>...</td>\n",
       "    </tr>\n",
       "    <tr>\n",
       "      <th>26699</th>\n",
       "      <td>tt0069811</td>\n",
       "      <td>The Body Shop</td>\n",
       "      <td>0</td>\n",
       "      <td>1972</td>\n",
       "      <td>75</td>\n",
       "      <td>3.7</td>\n",
       "      <td>['horror', 'sci-fi']</td>\n",
       "      <td>X</td>\n",
       "      <td>['Emminent plastic surgeon and mad scientist D...</td>\n",
       "      <td>456.0</td>\n",
       "    </tr>\n",
       "    <tr>\n",
       "      <th>26713</th>\n",
       "      <td>tt0069831</td>\n",
       "      <td>Butterfly</td>\n",
       "      <td>1</td>\n",
       "      <td>1975</td>\n",
       "      <td>112</td>\n",
       "      <td>5.5</td>\n",
       "      <td>['adult', 'drama']</td>\n",
       "      <td>X</td>\n",
       "      <td>[\"A beautiful young country girl tires of life...</td>\n",
       "      <td>360.0</td>\n",
       "    </tr>\n",
       "    <tr>\n",
       "      <th>26795</th>\n",
       "      <td>tt0069969</td>\n",
       "      <td>The Devil in Miss Jones</td>\n",
       "      <td>1</td>\n",
       "      <td>1973</td>\n",
       "      <td>67</td>\n",
       "      <td>6.2</td>\n",
       "      <td>['adult', 'drama', 'fantasy', 'horror']</td>\n",
       "      <td>X</td>\n",
       "      <td>['Miss Jones is tired of her life and commits ...</td>\n",
       "      <td>1589.0</td>\n",
       "    </tr>\n",
       "    <tr>\n",
       "      <th>26856</th>\n",
       "      <td>tt0070066</td>\n",
       "      <td>The Devil's Plaything</td>\n",
       "      <td>0</td>\n",
       "      <td>1973</td>\n",
       "      <td>103</td>\n",
       "      <td>4.6</td>\n",
       "      <td>['horror']</td>\n",
       "      <td>X</td>\n",
       "      <td>[\"A lesbian vampire's soul is kept on in the b...</td>\n",
       "      <td>628.0</td>\n",
       "    </tr>\n",
       "    <tr>\n",
       "      <th>26899</th>\n",
       "      <td>tt0070131</td>\n",
       "      <td>Lifesize</td>\n",
       "      <td>0</td>\n",
       "      <td>1974</td>\n",
       "      <td>101</td>\n",
       "      <td>6.4</td>\n",
       "      <td>['comedy', 'drama', 'fantasy']</td>\n",
       "      <td>X</td>\n",
       "      <td>['Michel is a middle aged man with a troubled ...</td>\n",
       "      <td>377.0</td>\n",
       "    </tr>\n",
       "  </tbody>\n",
       "</table>\n",
       "<p>125 rows × 10 columns</p>\n",
       "</div>"
      ],
      "text/plain": [
       "          tconst                          primaryTitle  isAdult  startYear  \\\n",
       "18666  tt0056166                          Lash of Lust        0       1972   \n",
       "19971  tt0058264                        Kiss Me Quick!        0       1964   \n",
       "21060  tt0060092                       The Alley Tramp        0       1968   \n",
       "21435  tt0060712                         Mondo Topless        0       1966   \n",
       "21469  tt0060761  The Notorious Daughter of Fanny Hill        0       1966   \n",
       "...          ...                                   ...      ...        ...   \n",
       "26699  tt0069811                         The Body Shop        0       1972   \n",
       "26713  tt0069831                             Butterfly        1       1975   \n",
       "26795  tt0069969               The Devil in Miss Jones        1       1973   \n",
       "26856  tt0070066                 The Devil's Plaything        0       1973   \n",
       "26899  tt0070131                              Lifesize        0       1974   \n",
       "\n",
       "      runtimeMinutes  rating                                 genres.1 mpaa  \\\n",
       "18666             \\N     2.6                              ['western']    X   \n",
       "19971             70     4.9           ['comedy', 'horror', 'sci-fi']    X   \n",
       "21060             69     4.5                                ['drama']    X   \n",
       "21435             60     4.8                          ['documentary']    X   \n",
       "21469             74     3.5                      ['comedy', 'drama']    X   \n",
       "...              ...     ...                                      ...  ...   \n",
       "26699             75     3.7                     ['horror', 'sci-fi']    X   \n",
       "26713            112     5.5                       ['adult', 'drama']    X   \n",
       "26795             67     6.2  ['adult', 'drama', 'fantasy', 'horror']    X   \n",
       "26856            103     4.6                               ['horror']    X   \n",
       "26899            101     6.4           ['comedy', 'drama', 'fantasy']    X   \n",
       "\n",
       "                                             description   votes  \n",
       "18666  [\"The man who hears with his eyes and speaks w...    32.0  \n",
       "19971  ['Sterilox, asexual ambassador from a distant ...   352.0  \n",
       "21060  [\"A teenage girl sets out on a sexual odyssey ...   282.0  \n",
       "21435  ['Completely topless. Completely uninhibited. ...  1206.0  \n",
       "21469  [\"Kissy Hill, the daughter of a notorious mada...   140.0  \n",
       "...                                                  ...     ...  \n",
       "26699  ['Emminent plastic surgeon and mad scientist D...   456.0  \n",
       "26713  [\"A beautiful young country girl tires of life...   360.0  \n",
       "26795  ['Miss Jones is tired of her life and commits ...  1589.0  \n",
       "26856  [\"A lesbian vampire's soul is kept on in the b...   628.0  \n",
       "26899  ['Michel is a middle aged man with a troubled ...   377.0  \n",
       "\n",
       "[125 rows x 10 columns]"
      ]
     },
     "execution_count": 41,
     "metadata": {},
     "output_type": "execute_result"
    }
   ],
   "source": [
    "data.loc[data['mpaa'] == 'X']"
   ]
  },
  {
   "cell_type": "markdown",
   "metadata": {},
   "source": [
    "In this sample, the flag for adult is very biased, which make sense, as that kind of movies don't come up often. Besides, this category should be already covered by the MPAA ratings on its own column.\n",
    "In the end, my decission is thtat this column is not needed."
   ]
  },
  {
   "cell_type": "code",
   "execution_count": 42,
   "metadata": {},
   "outputs": [],
   "source": [
    "cols_to_drop = []\n",
    "cols_to_drop.append('isAdult')"
   ]
  },
  {
   "cell_type": "markdown",
   "metadata": {},
   "source": [
    "### ``startYear``\n",
    "This column is ok, but I want to keep a copy apart for visualization purposes."
   ]
  },
  {
   "cell_type": "code",
   "execution_count": 69,
   "metadata": {},
   "outputs": [],
   "source": [
    "data['year_process'] = data.startYear"
   ]
  },
  {
   "cell_type": "markdown",
   "metadata": {},
   "source": [
    "### ``runtimeMinutes``"
   ]
  },
  {
   "cell_type": "code",
   "execution_count": 43,
   "metadata": {},
   "outputs": [
    {
     "data": {
      "text/plain": [
       "90     1215\n",
       "95      893\n",
       "85      801\n",
       "100     715\n",
       "80      692\n",
       "       ... \n",
       "218       1\n",
       "236       1\n",
       "284       1\n",
       "295       1\n",
       "202       1\n",
       "Name: runtimeMinutes, Length: 240, dtype: int64"
      ]
     },
     "execution_count": 43,
     "metadata": {},
     "output_type": "execute_result"
    }
   ],
   "source": [
    "data.runtimeMinutes.value_counts(dropna=False)"
   ]
  },
  {
   "cell_type": "markdown",
   "metadata": {},
   "source": [
    "In the original source, the empty values were marked as '\\N' instead of NaN. There are two consequences from this: they did not show up in the cleanup fase, and because of them, the solumn is considered as made of objects instead of only numbers.\n",
    "I could assign them the most common value, or the mean value. In this case, I am choosing the mean."
   ]
  },
  {
   "cell_type": "code",
   "execution_count": 44,
   "metadata": {},
   "outputs": [
    {
     "data": {
      "text/plain": [
       "89"
      ]
     },
     "execution_count": 44,
     "metadata": {},
     "output_type": "execute_result"
    }
   ],
   "source": [
    "mean = int(np.floor(data.loc[data['runtimeMinutes'] != '\\\\N']['runtimeMinutes'].astype('int32').mean()))\n",
    "mean"
   ]
  },
  {
   "cell_type": "code",
   "execution_count": 49,
   "metadata": {},
   "outputs": [
    {
     "data": {
      "text/plain": [
       "90     1215\n",
       "95      893\n",
       "85      801\n",
       "100     715\n",
       "89      697\n",
       "       ... \n",
       "218       1\n",
       "236       1\n",
       "284       1\n",
       "295       1\n",
       "202       1\n",
       "Name: runtimeMinutes, Length: 239, dtype: int64"
      ]
     },
     "execution_count": 49,
     "metadata": {},
     "output_type": "execute_result"
    }
   ],
   "source": [
    "data.runtimeMinutes = data.runtimeMinutes.replace('\\\\N', mean).astype('int32')\n",
    "data.runtimeMinutes.value_counts(dropna=False)"
   ]
  },
  {
   "cell_type": "code",
   "execution_count": 50,
   "metadata": {},
   "outputs": [
    {
     "data": {
      "text/plain": [
       "tconst             object\n",
       "primaryTitle       object\n",
       "isAdult             int64\n",
       "startYear           int64\n",
       "runtimeMinutes      int32\n",
       "rating            float64\n",
       "genres             object\n",
       "mpaa               object\n",
       "description        object\n",
       "votes             float64\n",
       "dtype: object"
      ]
     },
     "execution_count": 50,
     "metadata": {},
     "output_type": "execute_result"
    }
   ],
   "source": [
    "data.dtypes"
   ]
  },
  {
   "cell_type": "markdown",
   "metadata": {},
   "source": [
    "### ``genres.1``\n",
    "In here, the first thing I must do is change the name to remove that .1."
   ]
  },
  {
   "cell_type": "code",
   "execution_count": 46,
   "metadata": {},
   "outputs": [],
   "source": [
    "data.rename(columns={'genres.1':'genres'}, inplace=True)"
   ]
  },
  {
   "cell_type": "code",
   "execution_count": 70,
   "metadata": {},
   "outputs": [
    {
     "data": {
      "text/html": [
       "<div>\n",
       "<style scoped>\n",
       "    .dataframe tbody tr th:only-of-type {\n",
       "        vertical-align: middle;\n",
       "    }\n",
       "\n",
       "    .dataframe tbody tr th {\n",
       "        vertical-align: top;\n",
       "    }\n",
       "\n",
       "    .dataframe thead th {\n",
       "        text-align: right;\n",
       "    }\n",
       "</style>\n",
       "<table border=\"1\" class=\"dataframe\">\n",
       "  <thead>\n",
       "    <tr style=\"text-align: right;\">\n",
       "      <th></th>\n",
       "      <th>tconst</th>\n",
       "      <th>primaryTitle</th>\n",
       "      <th>isAdult</th>\n",
       "      <th>startYear</th>\n",
       "      <th>runtimeMinutes</th>\n",
       "      <th>rating</th>\n",
       "      <th>genres</th>\n",
       "      <th>mpaa</th>\n",
       "      <th>description</th>\n",
       "      <th>votes</th>\n",
       "      <th>year_process</th>\n",
       "    </tr>\n",
       "  </thead>\n",
       "  <tbody>\n",
       "    <tr>\n",
       "      <th>0</th>\n",
       "      <td>tt0023526</td>\n",
       "      <td>Stranger in Town</td>\n",
       "      <td>0</td>\n",
       "      <td>1932</td>\n",
       "      <td>65</td>\n",
       "      <td>6.1</td>\n",
       "      <td>['drama']</td>\n",
       "      <td>PG</td>\n",
       "      <td>[\"Ulysses Crickle owns a small town grocery st...</td>\n",
       "      <td>115.0</td>\n",
       "      <td>1932</td>\n",
       "    </tr>\n",
       "  </tbody>\n",
       "</table>\n",
       "</div>"
      ],
      "text/plain": [
       "      tconst      primaryTitle  isAdult  startYear  runtimeMinutes  rating  \\\n",
       "0  tt0023526  Stranger in Town        0       1932              65     6.1   \n",
       "\n",
       "      genres mpaa                                        description  votes  \\\n",
       "0  ['drama']   PG  [\"Ulysses Crickle owns a small town grocery st...  115.0   \n",
       "\n",
       "   year_process  \n",
       "0          1932  "
      ]
     },
     "execution_count": 70,
     "metadata": {},
     "output_type": "execute_result"
    }
   ],
   "source": [
    "data.head(1)"
   ]
  },
  {
   "cell_type": "markdown",
   "metadata": {},
   "source": [
    "(use the functions in NLP to create the columns here)"
   ]
  },
  {
   "cell_type": "markdown",
   "metadata": {},
   "source": [
    "### ``mpaa``\n",
    "The age rating has a list of defined values: \n",
    "* **G – General Audiences**\n",
    "* **PG – Parental Guidance Suggested**\n",
    "* **PG-13 – Parents Strongly Cautioned**\n",
    "* **R – Restricted**\n",
    "* **NC-17 – Adults Only**  \n",
    "  \n",
    "I want to minimize the amount of unique values present in the column."
   ]
  },
  {
   "cell_type": "code",
   "execution_count": 51,
   "metadata": {},
   "outputs": [
    {
     "data": {
      "text/plain": [
       "Not Rated    13987\n",
       "Approved      6074\n",
       "Passed        3600\n",
       "R              824\n",
       "PG             442\n",
       "TV-PG          425\n",
       "G              354\n",
       "Unrated        327\n",
       "GP             223\n",
       "TV-G           179\n",
       "X              125\n",
       "TV-14          100\n",
       "M               90\n",
       "M/PG            60\n",
       "PG-13           38\n",
       "TV-MA           32\n",
       "TV-Y7            7\n",
       "TV-Y7-FV         4\n",
       "NC-17            4\n",
       "TV-Y             2\n",
       "Open             2\n",
       "TV-13            2\n",
       "Name: mpaa, dtype: int64"
      ]
     },
     "execution_count": 51,
     "metadata": {},
     "output_type": "execute_result"
    }
   ],
   "source": [
    "data.mpaa.value_counts(dropna=False)"
   ]
  },
  {
   "cell_type": "markdown",
   "metadata": {},
   "source": [
    "Not Rated and Unrated are going to be the same:"
   ]
  },
  {
   "cell_type": "code",
   "execution_count": 52,
   "metadata": {},
   "outputs": [],
   "source": [
    "data.mpaa = data.mpaa.replace('Unrated', 'Not Rated')"
   ]
  },
  {
   "cell_type": "markdown",
   "metadata": {},
   "source": [
    "Approved and Passed are going to be the same:"
   ]
  },
  {
   "cell_type": "code",
   "execution_count": 54,
   "metadata": {},
   "outputs": [],
   "source": [
    "data.mpaa = data.mpaa.replace('Passed', 'Approved')"
   ]
  },
  {
   "cell_type": "markdown",
   "metadata": {},
   "source": [
    "X, M, M/PG and TV-MA are going to be NC-17"
   ]
  },
  {
   "cell_type": "code",
   "execution_count": 67,
   "metadata": {},
   "outputs": [],
   "source": [
    "data.mpaa = data.mpaa.replace(dict.fromkeys(['X','M','M/PG','TV-MA'], 'NC-17'))"
   ]
  },
  {
   "cell_type": "markdown",
   "metadata": {},
   "source": [
    "TV-PG, GP, TV-Y7 and TV-Y7-FV are going to be PG"
   ]
  },
  {
   "cell_type": "code",
   "execution_count": 61,
   "metadata": {},
   "outputs": [],
   "source": [
    "data.mpaa = data.mpaa.replace(dict.fromkeys(['TV-PG','GP','TV-Y7','TV-Y7-FV'], 'PG'))"
   ]
  },
  {
   "cell_type": "markdown",
   "metadata": {},
   "source": [
    "TV-G, TV-Y and Open are going to be G"
   ]
  },
  {
   "cell_type": "code",
   "execution_count": 63,
   "metadata": {},
   "outputs": [],
   "source": [
    "data.mpaa = data.mpaa.replace(dict.fromkeys(['TV-G','TV-Y','Open'], 'G'))"
   ]
  },
  {
   "cell_type": "markdown",
   "metadata": {},
   "source": [
    "TV-14 and TV-13 are going to be PG-13"
   ]
  },
  {
   "cell_type": "code",
   "execution_count": 65,
   "metadata": {},
   "outputs": [],
   "source": [
    "data.mpaa = data.mpaa.replace(dict.fromkeys(['TV-14','TV-13'], 'PG-13'))"
   ]
  },
  {
   "cell_type": "code",
   "execution_count": 68,
   "metadata": {},
   "outputs": [
    {
     "data": {
      "text/plain": [
       "Not Rated    14314\n",
       "Approved      9674\n",
       "PG            1101\n",
       "R              824\n",
       "G              537\n",
       "NC-17          311\n",
       "PG-13          140\n",
       "Name: mpaa, dtype: int64"
      ]
     },
     "execution_count": 68,
     "metadata": {},
     "output_type": "execute_result"
    }
   ],
   "source": [
    "data.mpaa.value_counts(dropna=False)"
   ]
  }
 ],
 "metadata": {
  "interpreter": {
   "hash": "5f23c331dcc0e959a18d97d72b32723b8e8fefc4a029dc171226f15b89161c30"
  },
  "kernelspec": {
   "display_name": "Python 3.9.7 ('base')",
   "language": "python",
   "name": "python3"
  },
  "language_info": {
   "codemirror_mode": {
    "name": "ipython",
    "version": 3
   },
   "file_extension": ".py",
   "mimetype": "text/x-python",
   "name": "python",
   "nbconvert_exporter": "python",
   "pygments_lexer": "ipython3",
   "version": "3.9.7"
  },
  "orig_nbformat": 4
 },
 "nbformat": 4,
 "nbformat_minor": 2
}
